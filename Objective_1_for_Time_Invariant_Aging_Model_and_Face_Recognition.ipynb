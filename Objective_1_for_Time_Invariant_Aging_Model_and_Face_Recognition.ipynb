{
 "cells": [
  {
   "cell_type": "markdown",
   "metadata": {
    "colab_type": "text",
    "id": "iPq8Kf62nIoV"
   },
   "source": [
    "بسم الله الرحمن الرحيم\n",
    "اللهم صل على محمد وعلى آل محمد كما صليت على إبراهيم وعلى آل إبراهيم إنك حميد مجيد، اللهم بارك على محمد وعلى آل محمد كما باركت على إبراهيم وعلى آل إبراهيم إنك حميد مجيد\n",
    "\n",
    "\n"
   ]
  },
  {
   "cell_type": "code",
   "execution_count": 2,
   "metadata": {},
   "outputs": [
    {
     "data": {
      "text/plain": [
       "'F:\\\\Time-Invariant  aging model Final\\\\Objective_1'"
      ]
     },
     "execution_count": 2,
     "metadata": {},
     "output_type": "execute_result"
    }
   ],
   "source": [
    "import os\n",
    "dir=os.getcwd()\n",
    "dir"
   ]
  },
  {
   "cell_type": "code",
   "execution_count": 3,
   "metadata": {
    "colab": {},
    "colab_type": "code",
    "id": "7Ih4N5H1ni3z"
   },
   "outputs": [],
   "source": [
    "data_folder_path=dir + '/datafiles_objective_1'"
   ]
  },
  {
   "cell_type": "markdown",
   "metadata": {
    "colab_type": "text",
    "id": "FFI1PxbIuuVg"
   },
   "source": [
    "# Start"
   ]
  },
  {
   "cell_type": "code",
   "execution_count": 4,
   "metadata": {
    "colab": {},
    "colab_type": "code",
    "id": "u12_Ya6J2pXT"
   },
   "outputs": [],
   "source": [
    "import pandas as pd\n",
    "import numpy as np\n",
    "import seaborn as sns\n",
    "import matplotlib.pyplot as plt"
   ]
  },
  {
   "cell_type": "code",
   "execution_count": 5,
   "metadata": {
    "colab": {},
    "colab_type": "code",
    "id": "kbc7axLk3ejh"
   },
   "outputs": [],
   "source": [
    "from sklearn.preprocessing import PolynomialFeatures\n",
    "from sklearn import linear_model"
   ]
  },
  {
   "cell_type": "code",
   "execution_count": 6,
   "metadata": {
    "colab": {},
    "colab_type": "code",
    "id": "AFLlGtgy3l_Z"
   },
   "outputs": [],
   "source": [
    "from sklearn.linear_model import LinearRegression\n",
    "from sklearn.kernel_ridge import KernelRidge"
   ]
  },
  {
   "cell_type": "code",
   "execution_count": 7,
   "metadata": {
    "colab": {},
    "colab_type": "code",
    "id": "MMWxc_AS3oaA"
   },
   "outputs": [],
   "source": [
    "from sklearn.pipeline import Pipeline\n",
    "from sklearn.metrics import mean_squared_error,mean_absolute_error\n",
    "from sklearn.model_selection import GridSearchCV"
   ]
  },
  {
   "cell_type": "markdown",
   "metadata": {
    "colab_type": "text",
    "id": "fc2f43v6YXt8"
   },
   "source": [
    "# Ovjective-1\n",
    "## Applying machine learning algorithm to develop a model that can successfully capture aging\n"
   ]
  },
  {
   "cell_type": "markdown",
   "metadata": {
    "colab_type": "text",
    "id": "DEj2zU4jYWM0"
   },
   "source": [
    "# Data Preprocessing\n",
    "## Putting all files into a single dataframe"
   ]
  },
  {
   "cell_type": "code",
   "execution_count": 8,
   "metadata": {},
   "outputs": [],
   "source": [
    "data_folder_path=dir + '/datafiles_objective_1/'"
   ]
  },
  {
   "cell_type": "code",
   "execution_count": 9,
   "metadata": {},
   "outputs": [],
   "source": [
    "list_dir = [i for i in os.listdir(data_folder_path)]"
   ]
  },
  {
   "cell_type": "code",
   "execution_count": null,
   "metadata": {},
   "outputs": [],
   "source": []
  },
  {
   "cell_type": "code",
   "execution_count": 15,
   "metadata": {
    "colab": {},
    "colab_type": "code",
    "id": "rOwVHqXWXtjc"
   },
   "outputs": [],
   "source": [
    "# Put all files into a single dataframe\n",
    "list_dir = [i for i in os.listdir(data_folder_path)]\n",
    "final_df = pd.DataFrame(columns=['ID','Facial Index','Mandibular Index','Intercantal Index','Orbital Width Index','Eye Fissure Index','Vermilion Height Index','Mouth Face Width Index','AGE'])\n",
    "interim_df = pd.DataFrame(columns=['ID','Facial Index','Mandibular Index','Intercantal Index','Orbital Width Index','Eye Fissure Index','Vermilion Height Index','Mouth Face Width Index','AGE'])\n",
    "age_list=list()\n",
    "for d in list_dir:\n",
    "    interim_df.at[0,  ['Facial Index','Mandibular Index','Intercantal Index','Orbital Width Index','Eye Fissure Index','Vermilion Height Index','Mouth Face Width Index']] = pd.read_csv(data_folder_path +d, sep=\" \", header=None).values[0][:7]\n",
    "    interim_df['AGE'] = int(d[4:].replace('.txt','').replace('a','').replace('b',''))\n",
    "    interim_df['ID'] = int(d[:3])\n",
    "    final_df = pd.concat([final_df,interim_df])\n",
    "    \n",
    "# sort values by age of same person\n",
    "final_df = final_df.sort_values(['ID','AGE'],ascending=True)"
   ]
  },
  {
   "cell_type": "code",
   "execution_count": 19,
   "metadata": {
    "scrolled": true
   },
   "outputs": [
    {
     "data": {
      "text/html": [
       "<div>\n",
       "<style scoped>\n",
       "    .dataframe tbody tr th:only-of-type {\n",
       "        vertical-align: middle;\n",
       "    }\n",
       "\n",
       "    .dataframe tbody tr th {\n",
       "        vertical-align: top;\n",
       "    }\n",
       "\n",
       "    .dataframe thead th {\n",
       "        text-align: right;\n",
       "    }\n",
       "</style>\n",
       "<table border=\"1\" class=\"dataframe\">\n",
       "  <thead>\n",
       "    <tr style=\"text-align: right;\">\n",
       "      <th></th>\n",
       "      <th>ID</th>\n",
       "      <th>Facial Index</th>\n",
       "      <th>Mandibular Index</th>\n",
       "      <th>Intercantal Index</th>\n",
       "      <th>Orbital Width Index</th>\n",
       "      <th>Eye Fissure Index</th>\n",
       "      <th>Vermilion Height Index</th>\n",
       "      <th>Mouth Face Width Index</th>\n",
       "      <th>AGE</th>\n",
       "    </tr>\n",
       "  </thead>\n",
       "  <tbody>\n",
       "    <tr>\n",
       "      <th>0</th>\n",
       "      <td>1</td>\n",
       "      <td>0.80607</td>\n",
       "      <td>0.336661</td>\n",
       "      <td>0.390837</td>\n",
       "      <td>0.828399</td>\n",
       "      <td>0.521382</td>\n",
       "      <td>0.59903</td>\n",
       "      <td>0.34635</td>\n",
       "      <td>2</td>\n",
       "    </tr>\n",
       "    <tr>\n",
       "      <th>0</th>\n",
       "      <td>1</td>\n",
       "      <td>0.852819</td>\n",
       "      <td>0.442643</td>\n",
       "      <td>0.38698</td>\n",
       "      <td>0.774311</td>\n",
       "      <td>0.461004</td>\n",
       "      <td>0.659254</td>\n",
       "      <td>0.393676</td>\n",
       "      <td>5</td>\n",
       "    </tr>\n",
       "    <tr>\n",
       "      <th>0</th>\n",
       "      <td>1</td>\n",
       "      <td>0.877282</td>\n",
       "      <td>0.404491</td>\n",
       "      <td>0.442716</td>\n",
       "      <td>0.675757</td>\n",
       "      <td>0.358158</td>\n",
       "      <td>0.30682</td>\n",
       "      <td>0.384508</td>\n",
       "      <td>8</td>\n",
       "    </tr>\n",
       "    <tr>\n",
       "      <th>0</th>\n",
       "      <td>1</td>\n",
       "      <td>0.883831</td>\n",
       "      <td>0.395061</td>\n",
       "      <td>0.415456</td>\n",
       "      <td>0.69811</td>\n",
       "      <td>0.419721</td>\n",
       "      <td>0.409635</td>\n",
       "      <td>0.361281</td>\n",
       "      <td>10</td>\n",
       "    </tr>\n",
       "    <tr>\n",
       "      <th>0</th>\n",
       "      <td>1</td>\n",
       "      <td>0.892233</td>\n",
       "      <td>0.408905</td>\n",
       "      <td>0.421452</td>\n",
       "      <td>0.690838</td>\n",
       "      <td>0.414924</td>\n",
       "      <td>0.511849</td>\n",
       "      <td>0.428505</td>\n",
       "      <td>14</td>\n",
       "    </tr>\n",
       "    <tr>\n",
       "      <th>...</th>\n",
       "      <td>...</td>\n",
       "      <td>...</td>\n",
       "      <td>...</td>\n",
       "      <td>...</td>\n",
       "      <td>...</td>\n",
       "      <td>...</td>\n",
       "      <td>...</td>\n",
       "      <td>...</td>\n",
       "      <td>...</td>\n",
       "    </tr>\n",
       "    <tr>\n",
       "      <th>0</th>\n",
       "      <td>82</td>\n",
       "      <td>0.97119</td>\n",
       "      <td>0.456241</td>\n",
       "      <td>0.431464</td>\n",
       "      <td>0.688562</td>\n",
       "      <td>0.362097</td>\n",
       "      <td>0.776495</td>\n",
       "      <td>0.421004</td>\n",
       "      <td>22</td>\n",
       "    </tr>\n",
       "    <tr>\n",
       "      <th>0</th>\n",
       "      <td>82</td>\n",
       "      <td>0.922055</td>\n",
       "      <td>0.457388</td>\n",
       "      <td>0.366031</td>\n",
       "      <td>0.807954</td>\n",
       "      <td>0.40289</td>\n",
       "      <td>0.800289</td>\n",
       "      <td>0.386978</td>\n",
       "      <td>23</td>\n",
       "    </tr>\n",
       "    <tr>\n",
       "      <th>0</th>\n",
       "      <td>82</td>\n",
       "      <td>0.948693</td>\n",
       "      <td>0.473651</td>\n",
       "      <td>0.409538</td>\n",
       "      <td>0.731037</td>\n",
       "      <td>0.290797</td>\n",
       "      <td>0.600109</td>\n",
       "      <td>0.465623</td>\n",
       "      <td>25</td>\n",
       "    </tr>\n",
       "    <tr>\n",
       "      <th>0</th>\n",
       "      <td>82</td>\n",
       "      <td>0.914195</td>\n",
       "      <td>0.500786</td>\n",
       "      <td>0.416904</td>\n",
       "      <td>0.543606</td>\n",
       "      <td>0.480518</td>\n",
       "      <td>0.876548</td>\n",
       "      <td>0.394899</td>\n",
       "      <td>27</td>\n",
       "    </tr>\n",
       "    <tr>\n",
       "      <th>0</th>\n",
       "      <td>82</td>\n",
       "      <td>0.915017</td>\n",
       "      <td>0.478165</td>\n",
       "      <td>0.404374</td>\n",
       "      <td>0.681841</td>\n",
       "      <td>0.316847</td>\n",
       "      <td>0.735635</td>\n",
       "      <td>0.450559</td>\n",
       "      <td>31</td>\n",
       "    </tr>\n",
       "  </tbody>\n",
       "</table>\n",
       "<p>1002 rows × 9 columns</p>\n",
       "</div>"
      ],
      "text/plain": [
       "    ID Facial Index Mandibular Index Intercantal Index Orbital Width Index  \\\n",
       "0    1      0.80607         0.336661          0.390837            0.828399   \n",
       "0    1     0.852819         0.442643           0.38698            0.774311   \n",
       "0    1     0.877282         0.404491          0.442716            0.675757   \n",
       "0    1     0.883831         0.395061          0.415456             0.69811   \n",
       "0    1     0.892233         0.408905          0.421452            0.690838   \n",
       "..  ..          ...              ...               ...                 ...   \n",
       "0   82      0.97119         0.456241          0.431464            0.688562   \n",
       "0   82     0.922055         0.457388          0.366031            0.807954   \n",
       "0   82     0.948693         0.473651          0.409538            0.731037   \n",
       "0   82     0.914195         0.500786          0.416904            0.543606   \n",
       "0   82     0.915017         0.478165          0.404374            0.681841   \n",
       "\n",
       "   Eye Fissure Index Vermilion Height Index Mouth Face Width Index AGE  \n",
       "0           0.521382                0.59903                0.34635   2  \n",
       "0           0.461004               0.659254               0.393676   5  \n",
       "0           0.358158                0.30682               0.384508   8  \n",
       "0           0.419721               0.409635               0.361281  10  \n",
       "0           0.414924               0.511849               0.428505  14  \n",
       "..               ...                    ...                    ...  ..  \n",
       "0           0.362097               0.776495               0.421004  22  \n",
       "0            0.40289               0.800289               0.386978  23  \n",
       "0           0.290797               0.600109               0.465623  25  \n",
       "0           0.480518               0.876548               0.394899  27  \n",
       "0           0.316847               0.735635               0.450559  31  \n",
       "\n",
       "[1002 rows x 9 columns]"
      ]
     },
     "execution_count": 19,
     "metadata": {},
     "output_type": "execute_result"
    }
   ],
   "source": [
    "final_df"
   ]
  },
  {
   "cell_type": "code",
   "execution_count": 25,
   "metadata": {},
   "outputs": [],
   "source": [
    "final_df.to_csv(dir + '/final_df.csv',mode = 'w', index=False)"
   ]
  },
  {
   "cell_type": "code",
   "execution_count": 10,
   "metadata": {},
   "outputs": [
    {
     "data": {
      "text/html": [
       "<div>\n",
       "<style scoped>\n",
       "    .dataframe tbody tr th:only-of-type {\n",
       "        vertical-align: middle;\n",
       "    }\n",
       "\n",
       "    .dataframe tbody tr th {\n",
       "        vertical-align: top;\n",
       "    }\n",
       "\n",
       "    .dataframe thead th {\n",
       "        text-align: right;\n",
       "    }\n",
       "</style>\n",
       "<table border=\"1\" class=\"dataframe\">\n",
       "  <thead>\n",
       "    <tr style=\"text-align: right;\">\n",
       "      <th></th>\n",
       "      <th>ID</th>\n",
       "      <th>Facial Index</th>\n",
       "      <th>Mandibular Index</th>\n",
       "      <th>Intercantal Index</th>\n",
       "      <th>Orbital Width Index</th>\n",
       "      <th>Eye Fissure Index</th>\n",
       "      <th>Vermilion Height Index</th>\n",
       "      <th>Mouth Face Width Index</th>\n",
       "      <th>AGE</th>\n",
       "    </tr>\n",
       "  </thead>\n",
       "  <tbody>\n",
       "    <tr>\n",
       "      <th>0</th>\n",
       "      <td>1</td>\n",
       "      <td>0.806070</td>\n",
       "      <td>0.336661</td>\n",
       "      <td>0.390837</td>\n",
       "      <td>0.828399</td>\n",
       "      <td>0.521382</td>\n",
       "      <td>0.599030</td>\n",
       "      <td>0.346350</td>\n",
       "      <td>2</td>\n",
       "    </tr>\n",
       "    <tr>\n",
       "      <th>1</th>\n",
       "      <td>1</td>\n",
       "      <td>0.852819</td>\n",
       "      <td>0.442643</td>\n",
       "      <td>0.386980</td>\n",
       "      <td>0.774311</td>\n",
       "      <td>0.461004</td>\n",
       "      <td>0.659254</td>\n",
       "      <td>0.393676</td>\n",
       "      <td>5</td>\n",
       "    </tr>\n",
       "    <tr>\n",
       "      <th>2</th>\n",
       "      <td>1</td>\n",
       "      <td>0.877282</td>\n",
       "      <td>0.404491</td>\n",
       "      <td>0.442716</td>\n",
       "      <td>0.675757</td>\n",
       "      <td>0.358158</td>\n",
       "      <td>0.306820</td>\n",
       "      <td>0.384508</td>\n",
       "      <td>8</td>\n",
       "    </tr>\n",
       "  </tbody>\n",
       "</table>\n",
       "</div>"
      ],
      "text/plain": [
       "   ID  Facial Index  Mandibular Index  Intercantal Index  Orbital Width Index  \\\n",
       "0   1      0.806070          0.336661           0.390837             0.828399   \n",
       "1   1      0.852819          0.442643           0.386980             0.774311   \n",
       "2   1      0.877282          0.404491           0.442716             0.675757   \n",
       "\n",
       "   Eye Fissure Index  Vermilion Height Index  Mouth Face Width Index  AGE  \n",
       "0           0.521382                0.599030                0.346350    2  \n",
       "1           0.461004                0.659254                0.393676    5  \n",
       "2           0.358158                0.306820                0.384508    8  "
      ]
     },
     "execution_count": 10,
     "metadata": {},
     "output_type": "execute_result"
    }
   ],
   "source": [
    "final_df=pd.read_csv('final_df.csv')\n",
    "final_df.head(3)"
   ]
  },
  {
   "cell_type": "code",
   "execution_count": 11,
   "metadata": {
    "colab": {
     "base_uri": "https://localhost:8080/",
     "height": 35
    },
    "colab_type": "code",
    "id": "KUVSF4ru4E54",
    "outputId": "6a9e5819-7513-47de-a2fa-a7e3648a87c1"
   },
   "outputs": [
    {
     "data": {
      "text/plain": [
       "(1002, 9)"
      ]
     },
     "execution_count": 11,
     "metadata": {},
     "output_type": "execute_result"
    }
   ],
   "source": [
    "final_df.shape"
   ]
  },
  {
   "cell_type": "markdown",
   "metadata": {
    "colab_type": "text",
    "id": "qn58W2D9Y4yO"
   },
   "source": [
    "### Class distribution"
   ]
  },
  {
   "cell_type": "code",
   "execution_count": 31,
   "metadata": {
    "colab": {
     "base_uri": "https://localhost:8080/",
     "height": 295
    },
    "colab_type": "code",
    "id": "bdbVQrbfY_Qj",
    "outputId": "717f0a53-254b-4fc7-cbff-1f0cd40cbf66"
   },
   "outputs": [
    {
     "data": {
      "image/png": "[encoded data removed]",
      "text/plain": [
       "<Figure size 432x288 with 1 Axes>"
      ]
     },
     "metadata": {
      "needs_background": "light"
     },
     "output_type": "display_data"
    }
   ],
   "source": [
    "classes=final_df[['ID']].values\n",
    "unique, counts = np.unique(classes, return_counts=True)\n",
    "plt.bar(unique,counts)\n",
    "plt.title('Class Frequency')\n",
    "plt.xlabel('Class')\n",
    "plt.ylabel('Frequency')\n",
    "plt.show()"
   ]
  },
  {
   "cell_type": "markdown",
   "metadata": {
    "colab_type": "text",
    "id": "f5Vq6gCW4NyP"
   },
   "source": [
    "## Splitting data in training and validation(test) sets"
   ]
  },
  {
   "cell_type": "code",
   "execution_count": 12,
   "metadata": {
    "colab": {},
    "colab_type": "code",
    "id": "ntjeKqqj4Q9C"
   },
   "outputs": [],
   "source": [
    "train_size = len(final_df['ID'].unique()) * .8"
   ]
  },
  {
   "cell_type": "code",
   "execution_count": 13,
   "metadata": {
    "colab": {},
    "colab_type": "code",
    "id": "MEN6ogqP4SQ7"
   },
   "outputs": [],
   "source": [
    "train = pd.DataFrame()\n",
    "valid = pd.DataFrame()\n",
    "for n,i in enumerate(final_df['ID'].unique()):\n",
    "    if n< train_size:\n",
    "        train = pd.concat([train, final_df[final_df['ID']==i]])\n",
    "    else:\n",
    "        valid = pd.concat([valid, final_df[final_df['ID']==i]])"
   ]
  },
  {
   "cell_type": "code",
   "execution_count": 14,
   "metadata": {
    "colab": {
     "base_uri": "https://localhost:8080/",
     "height": 35
    },
    "colab_type": "code",
    "id": "LwihinPZ4SKr",
    "outputId": "444307c0-b3df-49a4-aa4a-7f4362d49302"
   },
   "outputs": [
    {
     "name": "stdout",
     "output_type": "stream",
     "text": [
      "(212, 9) (790, 9)\n"
     ]
    }
   ],
   "source": [
    "print(valid.shape,train.shape)"
   ]
  },
  {
   "cell_type": "code",
   "execution_count": 15,
   "metadata": {
    "colab": {
     "base_uri": "https://localhost:8080/",
     "height": 54
    },
    "colab_type": "code",
    "id": "r0TxRLQ04SDy",
    "outputId": "f68b6ca5-e836-41f8-a62a-38d31e7afb58"
   },
   "outputs": [
    {
     "name": "stdout",
     "output_type": "stream",
     "text": [
      "Training Set Has: 66 people\n",
      "Validation (Test) Set Has: 16 people\n"
     ]
    }
   ],
   "source": [
    "print('Training Set Has: ' + str(len(train.groupby('ID').count())) + ' people')\n",
    "print('Validation (Test) Set Has: ' + str(len(valid.groupby('ID').count())) + ' people')"
   ]
  },
  {
   "cell_type": "code",
   "execution_count": 16,
   "metadata": {
    "colab": {},
    "colab_type": "code",
    "id": "I5zVXQ2t4R9F"
   },
   "outputs": [],
   "source": [
    "X_train = train[  ['Facial Index','Mandibular Index','Intercantal Index','Orbital Width Index','Eye Fissure Index','Vermilion Height Index','Mouth Face Width Index']]\n",
    "y_train = train['AGE']\n",
    "\n",
    "X_valid = valid[  ['Facial Index','Mandibular Index','Intercantal Index','Orbital Width Index','Eye Fissure Index','Vermilion Height Index','Mouth Face Width Index']]\n",
    "y_valid = valid['AGE']"
   ]
  },
  {
   "cell_type": "code",
   "execution_count": 17,
   "metadata": {
    "colab": {
     "base_uri": "https://localhost:8080/",
     "height": 130
    },
    "colab_type": "code",
    "id": "mxRjiefv4R07",
    "outputId": "fe3f1331-17ac-42f3-bc86-d4c35dbb3d3e"
   },
   "outputs": [
    {
     "data": {
      "text/html": [
       "<div>\n",
       "<style scoped>\n",
       "    .dataframe tbody tr th:only-of-type {\n",
       "        vertical-align: middle;\n",
       "    }\n",
       "\n",
       "    .dataframe tbody tr th {\n",
       "        vertical-align: top;\n",
       "    }\n",
       "\n",
       "    .dataframe thead th {\n",
       "        text-align: right;\n",
       "    }\n",
       "</style>\n",
       "<table border=\"1\" class=\"dataframe\">\n",
       "  <thead>\n",
       "    <tr style=\"text-align: right;\">\n",
       "      <th></th>\n",
       "      <th>Facial Index</th>\n",
       "      <th>Mandibular Index</th>\n",
       "      <th>Intercantal Index</th>\n",
       "      <th>Orbital Width Index</th>\n",
       "      <th>Eye Fissure Index</th>\n",
       "      <th>Vermilion Height Index</th>\n",
       "      <th>Mouth Face Width Index</th>\n",
       "    </tr>\n",
       "  </thead>\n",
       "  <tbody>\n",
       "    <tr>\n",
       "      <th>0</th>\n",
       "      <td>0.806070</td>\n",
       "      <td>0.336661</td>\n",
       "      <td>0.390837</td>\n",
       "      <td>0.828399</td>\n",
       "      <td>0.521382</td>\n",
       "      <td>0.599030</td>\n",
       "      <td>0.346350</td>\n",
       "    </tr>\n",
       "    <tr>\n",
       "      <th>1</th>\n",
       "      <td>0.852819</td>\n",
       "      <td>0.442643</td>\n",
       "      <td>0.386980</td>\n",
       "      <td>0.774311</td>\n",
       "      <td>0.461004</td>\n",
       "      <td>0.659254</td>\n",
       "      <td>0.393676</td>\n",
       "    </tr>\n",
       "  </tbody>\n",
       "</table>\n",
       "</div>"
      ],
      "text/plain": [
       "   Facial Index  Mandibular Index  Intercantal Index  Orbital Width Index  \\\n",
       "0      0.806070          0.336661           0.390837             0.828399   \n",
       "1      0.852819          0.442643           0.386980             0.774311   \n",
       "\n",
       "   Eye Fissure Index  Vermilion Height Index  Mouth Face Width Index  \n",
       "0           0.521382                0.599030                0.346350  \n",
       "1           0.461004                0.659254                0.393676  "
      ]
     },
     "execution_count": 17,
     "metadata": {},
     "output_type": "execute_result"
    }
   ],
   "source": [
    "X_train.head(2)"
   ]
  },
  {
   "cell_type": "code",
   "execution_count": 18,
   "metadata": {
    "colab": {},
    "colab_type": "code",
    "id": "ROGeBnTm4Rwe"
   },
   "outputs": [],
   "source": [
    "y_valid=valid[['AGE']]"
   ]
  },
  {
   "cell_type": "code",
   "execution_count": 19,
   "metadata": {
    "colab": {},
    "colab_type": "code",
    "id": "P7kLrN314sEh"
   },
   "outputs": [],
   "source": [
    "y_train=train[['AGE']]"
   ]
  },
  {
   "cell_type": "code",
   "execution_count": 20,
   "metadata": {
    "colab": {
     "base_uri": "https://localhost:8080/",
     "height": 35
    },
    "colab_type": "code",
    "id": "n20ljRK94Rol",
    "outputId": "1a0b9c32-23e4-4dc0-f153-2247cccbccf8"
   },
   "outputs": [
    {
     "name": "stdout",
     "output_type": "stream",
     "text": [
      "(790, 7) (790, 1) (212, 7) (212, 1)\n"
     ]
    }
   ],
   "source": [
    "print(X_train.shape,y_train.shape,X_valid.shape,y_valid.shape)"
   ]
  },
  {
   "cell_type": "markdown",
   "metadata": {
    "colab_type": "text",
    "id": "MDzSnUmh44Js"
   },
   "source": [
    "## The Mean absolute error (MAE) for Kernel Regression model"
   ]
  },
  {
   "cell_type": "code",
   "execution_count": 21,
   "metadata": {
    "colab": {},
    "colab_type": "code",
    "id": "z8JD3Wyk4RhB"
   },
   "outputs": [],
   "source": [
    "kr = GridSearchCV(KernelRidge(kernel='rbf', gamma=0.1), cv=3,\n",
    "                  param_grid={\"alpha\": [1e0, 0.1, 1e-2, 1e-3,2],\n",
    "                              \"gamma\": np.logspace(-2, 2, 5),\n",
    "                              \"degree\": [0,1,2,3,4]})"
   ]
  },
  {
   "cell_type": "code",
   "execution_count": 22,
   "metadata": {
    "colab": {
     "base_uri": "https://localhost:8080/",
     "height": 35
    },
    "colab_type": "code",
    "id": "bbsdrHWC4RYZ",
    "outputId": "7ff121f7-19eb-468b-afc1-ff1c9fb5c3cd"
   },
   "outputs": [
    {
     "name": "stdout",
     "output_type": "stream",
     "text": [
      "MAE: 10.235163852688782\n"
     ]
    }
   ],
   "source": [
    "kr.fit(X_train, y_train)\n",
    "print('MAE: ' + str(mean_absolute_error(y_true= y_valid, y_pred=kr.predict(X_valid))))"
   ]
  },
  {
   "cell_type": "markdown",
   "metadata": {
    "colab_type": "text",
    "id": "eBnNt_fC5Gwa"
   },
   "source": [
    "### We have MAE=10.23 .Now we drop the features one by one and check whether our MAE increase or decrease?"
   ]
  },
  {
   "cell_type": "code",
   "execution_count": 23,
   "metadata": {
    "colab": {},
    "colab_type": "code",
    "id": "Zm4POs6c5IOP"
   },
   "outputs": [],
   "source": [
    "kr_score_all_feats = mean_absolute_error(y_true= y_valid, y_pred=kr.predict(X_valid))"
   ]
  },
  {
   "cell_type": "code",
   "execution_count": 24,
   "metadata": {
    "colab": {
     "base_uri": "https://localhost:8080/",
     "height": 405
    },
    "colab_type": "code",
    "id": "nhz4CrR65I4r",
    "outputId": "473a85a9-b80e-45b9-c418-c2aea491e34c"
   },
   "outputs": [
    {
     "name": "stdout",
     "output_type": "stream",
     "text": [
      "Droping Facial Index\n",
      "MAE: 10.29189534344413\n",
      "Score decreased by : 0.056731490755348446\n",
      "Droping Mandibular Index\n",
      "MAE: 10.251645991344702\n",
      "Score decreased by : 0.01648213865592041\n",
      "Droping Intercantal Index\n",
      "MAE: 10.234045568396922\n",
      "Score decreased by : -0.0011182842918593394\n",
      "Droping Orbital Width Index\n",
      "MAE: 10.309011890291261\n",
      "Score decreased by : 0.07384803760247927\n",
      "Droping Eye Fissure Index\n",
      "MAE: 10.419635908040208\n",
      "Score decreased by : 0.18447205535142608\n",
      "Droping Vermilion Height Index\n",
      "MAE: 10.199300982034071\n",
      "Score decreased by : -0.03586287065471083\n",
      "Droping Mouth Face Width Index\n",
      "MAE: 9.906054773429045\n",
      "Score decreased by : -0.3291090792597373\n"
     ]
    }
   ],
   "source": [
    "kernel_importance = list()\n",
    "for feature in   ['Facial Index','Mandibular Index','Intercantal Index','Orbital Width Index','Eye Fissure Index','Vermilion Height Index','Mouth Face Width Index']:\n",
    "    print(\"Dropping \"+ feature)\n",
    "    kr.fit(X_train.drop(feature,axis =1 ), y_train)\n",
    "    kernel_importance.append(mean_absolute_error(y_true= y_valid, y_pred=kr.predict(X_valid.drop(feature,axis =1 )))-kr_score_all_feats)\n",
    "    print('MAE: ' + str(mean_absolute_error(y_true= y_valid, y_pred=kr.predict(X_valid.drop(feature,axis =1 )))))\n",
    "    print(\"Score decreased by : \" +str(mean_absolute_error(y_true= y_valid, y_pred=kr.predict(X_valid.drop(feature,axis =1 ))) -kr_score_all_feats)) \n"
   ]
  },
  {
   "cell_type": "markdown",
   "metadata": {
    "colab_type": "text",
    "id": "9KBtHgzd5qVr"
   },
   "source": [
    "### In above calculation,its observed that \"Mouth Face Width Index\"(-0.329) and \"Vermilion Height Index\" (-0.035) considerably increases the error.Therefore we drop both these features and check the MAE"
   ]
  },
  {
   "cell_type": "code",
   "execution_count": 25,
   "metadata": {
    "colab": {
     "base_uri": "https://localhost:8080/",
     "height": 35
    },
    "colab_type": "code",
    "id": "1poxUyJT5Iyz",
    "outputId": "e2cd36c7-50fb-411a-f6b9-fbb79b6c093f"
   },
   "outputs": [
    {
     "name": "stdout",
     "output_type": "stream",
     "text": [
      "MAE: 9.77531444552188\n"
     ]
    }
   ],
   "source": [
    "kr.fit(X_train.drop(['Mouth Face Width Index','Vermilion Height Index'], axis=1), y_train)\n",
    "print('MAE: ' + str(mean_absolute_error(y_true= y_valid, y_pred=kr.predict(X_valid.drop(['Mouth Face Width Index','Vermilion Height Index'], axis=1)))))\n"
   ]
  },
  {
   "cell_type": "markdown",
   "metadata": {
    "colab_type": "text",
    "id": "jCNtFUPe5zyy"
   },
   "source": [
    "### After dropping the two features i.e \"Mouth Face Width Index\" and \"Vermilion Height Index\", our MAE decreased from 10.23 to 9.77"
   ]
  },
  {
   "cell_type": "markdown",
   "metadata": {
    "colab_type": "text",
    "id": "I5upHCJc55HN"
   },
   "source": [
    "# Using Polynomial Regression"
   ]
  },
  {
   "cell_type": "code",
   "execution_count": 26,
   "metadata": {
    "colab": {
     "base_uri": "https://localhost:8080/",
     "height": 35
    },
    "colab_type": "code",
    "id": "vHl-Zk8I56v4",
    "outputId": "152aaa75-db22-4d2c-a06b-67a605649b4a"
   },
   "outputs": [
    {
     "name": "stdout",
     "output_type": "stream",
     "text": [
      "MAE: 10.273646554943683\n"
     ]
    }
   ],
   "source": [
    "poly_mod = Pipeline([('poly', PolynomialFeatures()), ('linear', LinearRegression(fit_intercept=True))])\n",
    "poly = GridSearchCV(poly_mod, cv=3, param_grid={\"poly__degree\": [1,2,3,5]})\n",
    "poly.fit(X_train,y_train)\n",
    "print('MAE: ' + str(mean_absolute_error(y_true= y_valid, y_pred=poly.predict(X_valid))))"
   ]
  },
  {
   "cell_type": "code",
   "execution_count": 27,
   "metadata": {
    "colab": {},
    "colab_type": "code",
    "id": "MqH5VDon57X_"
   },
   "outputs": [],
   "source": [
    "poly_score_all_feats = mean_squared_error(y_true= y_valid, y_pred=poly.predict(X_valid))"
   ]
  },
  {
   "cell_type": "markdown",
   "metadata": {
    "colab_type": "text",
    "id": "DS35EILa6En6"
   },
   "source": [
    "### Dropping the features one by one and check the effect on MAE"
   ]
  },
  {
   "cell_type": "code",
   "execution_count": 28,
   "metadata": {
    "colab": {
     "base_uri": "https://localhost:8080/",
     "height": 405
    },
    "colab_type": "code",
    "id": "HV7dyA8n57OD",
    "outputId": "f65edea5-f77e-4685-fc4a-5330d5ba59fb"
   },
   "outputs": [
    {
     "name": "stdout",
     "output_type": "stream",
     "text": [
      "Droping Facial Index\n",
      "MAE: 10.309421953838662\n",
      "Score decreased by : 0.07425810114987996\n",
      "Droping Mandibular Index\n",
      "MAE: 10.3262686853303\n",
      "Score decreased by : 0.09110483264151803\n",
      "Droping Intercantal Index\n",
      "MAE: 10.273238883022438\n",
      "Score decreased by : 0.03807503033365656\n",
      "Droping Orbital Width Index\n",
      "MAE: 10.272561513931864\n",
      "Score decreased by : 0.03739766124308197\n",
      "Droping Eye Fissure Index\n",
      "MAE: 10.427354741837721\n",
      "Score decreased by : 0.19219088914893945\n",
      "Droping Vermilion Height Index\n",
      "MAE: 10.273334124100044\n",
      "Score decreased by : 0.03817027141126239\n",
      "Droping Mouth Face Width Index\n",
      "MAE: 10.06030427204965\n",
      "Score decreased by : -0.1748595806391311\n"
     ]
    }
   ],
   "source": [
    "poly_importance = list()\n",
    "for feature in   ['Facial Index','Mandibular Index','Intercantal Index','Orbital Width Index','Eye Fissure Index','Vermilion Height Index','Mouth Face Width Index']:\n",
    "    print(\"Droping \"+ feature)\n",
    "    poly_mod = Pipeline([('poly', PolynomialFeatures()), ('linear', LinearRegression(fit_intercept=True))])\n",
    "    poly = GridSearchCV(poly_mod, cv=5, param_grid={\"poly__degree\": [1,2,3,4]})\n",
    "    poly.fit(X_train.drop(feature, axis=1),y_train)\n",
    "    poly_importance.append(mean_absolute_error(y_true= y_valid, y_pred=poly.predict(X_valid.drop(feature,axis =1 )))-kr_score_all_feats)\n",
    "    print('MAE: ' + str(mean_absolute_error(y_true= y_valid, y_pred=poly.predict(X_valid.drop(feature,axis =1 )))))\n",
    "    print(\"Score decreased by : \" +str(mean_absolute_error(y_true= y_valid, y_pred=poly.predict(X_valid.drop(feature,axis =1 ))) -kr_score_all_feats)) \n"
   ]
  },
  {
   "cell_type": "code",
   "execution_count": 29,
   "metadata": {},
   "outputs": [
    {
     "data": {
      "text/plain": [
       "[0.07425810114987996,\n",
       " 0.09110483264151803,\n",
       " 0.03807503033365656,\n",
       " 0.03739766124308197,\n",
       " 0.19219088914893945,\n",
       " 0.03817027141126239,\n",
       " -0.1748595806391311]"
      ]
     },
     "execution_count": 29,
     "metadata": {},
     "output_type": "execute_result"
    }
   ],
   "source": [
    "poly_importance"
   ]
  },
  {
   "cell_type": "markdown",
   "metadata": {
    "colab_type": "text",
    "id": "ewud9QMW6NWX"
   },
   "source": [
    "### In the above procedure,its obsereved that after dropping 'Mouth Face Width Index' we see that MAE decreased for Polynomial regression\n",
    "### Therefore we drop 'Mouth Face Width Index' feature and again check the MAE"
   ]
  },
  {
   "cell_type": "code",
   "execution_count": 30,
   "metadata": {
    "colab": {
     "base_uri": "https://localhost:8080/",
     "height": 35
    },
    "colab_type": "code",
    "id": "f3OUM_wz57Hk",
    "outputId": "dfeaf8e3-ff6c-4df3-c96b-d0c19df3ed02"
   },
   "outputs": [
    {
     "name": "stdout",
     "output_type": "stream",
     "text": [
      "MAE: 10.06030427204965\n"
     ]
    }
   ],
   "source": [
    "poly.fit(X_train.drop('Mouth Face Width Index', axis =1),y_train)\n",
    "print('MAE: ' + str(mean_absolute_error(y_true= y_valid, y_pred=poly.predict(X_valid.drop('Mouth Face Width Index', axis =1)))))"
   ]
  },
  {
   "cell_type": "markdown",
   "metadata": {
    "colab_type": "text",
    "id": "YoBwcl4r6Ui7"
   },
   "source": [
    "### The MAE for polynomial model decreased from 10.27 to 10.06 after dropping \"Mouth Face Width Index\" feature"
   ]
  },
  {
   "cell_type": "markdown",
   "metadata": {
    "colab_type": "text",
    "id": "ba7rNHB36ZAK"
   },
   "source": [
    "## Plotting the importance of features for Kernel and Polynomial models"
   ]
  },
  {
   "cell_type": "code",
   "execution_count": 31,
   "metadata": {
    "colab": {},
    "colab_type": "code",
    "id": "dP9r35x557Av"
   },
   "outputs": [],
   "source": [
    "importance_df = pd.DataFrame()\n",
    "importance_df[\"Feature\"] =   ['Facial Index','Mandibular Index','Intercantal Index','Orbital Width Index','Eye Fissure Index','Vermilion Height Index','Mouth Face Width Index']"
   ]
  },
  {
   "cell_type": "code",
   "execution_count": 32,
   "metadata": {
    "colab": {},
    "colab_type": "code",
    "id": "RjRPOQS55Iqb"
   },
   "outputs": [],
   "source": [
    "importance_df['Polynomial Importance'] = poly_importance\n",
    "importance_df['Kernel Importance'] = kernel_importance\n"
   ]
  },
  {
   "cell_type": "code",
   "execution_count": 33,
   "metadata": {
    "colab": {},
    "colab_type": "code",
    "id": "d4xz5d8t6gOW"
   },
   "outputs": [],
   "source": [
    "importance_df = importance_df.sort_values('Kernel Importance',ascending=False)"
   ]
  },
  {
   "cell_type": "code",
   "execution_count": 37,
   "metadata": {
    "colab": {
     "base_uri": "https://localhost:8080/",
     "height": 1000
    },
    "colab_type": "code",
    "id": "eJNNFG_86gkc",
    "outputId": "cc95a10f-9aab-46a5-b5a1-66f578fdf3b9"
   },
   "outputs": [
    {
     "name": "stderr",
     "output_type": "stream",
     "text": [
      "E:\\anaconda\\envs\\tf\\lib\\site-packages\\seaborn\\_decorators.py:43: FutureWarning: Pass the following variables as keyword args: x, y. From version 0.12, the only valid positional argument will be `data`, and passing other arguments without an explicit keyword will result in an error or misinterpretation.\n",
      "  FutureWarning\n"
     ]
    },
    {
     "data": {
      "image/png": "[encoded data removed]",
      "text/plain": [
       "<Figure size 1440x1440 with 1 Axes>"
      ]
     },
     "metadata": {
      "needs_background": "light"
     },
     "output_type": "display_data"
    }
   ],
   "source": [
    "plt.figure(figsize=(20,20))\n",
    "plt.title('Kernel Feature Importance', fontsize=30)\n",
    "sns.barplot(importance_df.Feature, importance_df['Kernel Importance'])\n",
    "plt.xticks(fontsize=25, rotation='vertical')\n",
    "plt.yticks(fontsize=25)\n",
    "plt.xlabel('Features',fontsize=30)\n",
    "plt.ylabel('Importance', fontsize=30)\n",
    "plt.show()"
   ]
  },
  {
   "cell_type": "code",
   "execution_count": 38,
   "metadata": {
    "colab": {},
    "colab_type": "code",
    "id": "k-mwGIQZ6g7t"
   },
   "outputs": [],
   "source": [
    "importance_df = importance_df.sort_values('Polynomial Importance',ascending=False)"
   ]
  },
  {
   "cell_type": "code",
   "execution_count": 39,
   "metadata": {
    "colab": {
     "base_uri": "https://localhost:8080/",
     "height": 1000
    },
    "colab_type": "code",
    "id": "Q_XYvJuN6hY7",
    "outputId": "c4081d94-a9a1-473d-a8e8-735ee7905a66"
   },
   "outputs": [
    {
     "name": "stderr",
     "output_type": "stream",
     "text": [
      "E:\\anaconda\\envs\\tf\\lib\\site-packages\\seaborn\\_decorators.py:43: FutureWarning: Pass the following variables as keyword args: x, y. From version 0.12, the only valid positional argument will be `data`, and passing other arguments without an explicit keyword will result in an error or misinterpretation.\n",
      "  FutureWarning\n"
     ]
    },
    {
     "data": {
      "image/png": "[encoded data removed]",
      "text/plain": [
       "<Figure size 1440x1440 with 1 Axes>"
      ]
     },
     "metadata": {
      "needs_background": "light"
     },
     "output_type": "display_data"
    }
   ],
   "source": [
    "plt.figure(figsize=(20,20))\n",
    "plt.title('Polynomial Feature Importance', fontsize=30)\n",
    "sns.barplot(importance_df.Feature, importance_df['Polynomial Importance'])\n",
    "plt.xticks(fontsize=25, rotation='vertical')\n",
    "plt.yticks(fontsize=25)\n",
    "plt.xlabel('Features',fontsize=30)\n",
    "plt.ylabel('Importance', fontsize=30)\n",
    "plt.show()"
   ]
  },
  {
   "cell_type": "code",
   "execution_count": 73,
   "metadata": {
    "colab": {
     "base_uri": "https://localhost:8080/",
     "height": 206
    },
    "colab_type": "code",
    "id": "cC-iEkOZ6htR",
    "outputId": "d73a3ecc-2096-4cb0-871c-8600da49a446"
   },
   "outputs": [
    {
     "data": {
      "text/html": [
       "<div>\n",
       "<style scoped>\n",
       "    .dataframe tbody tr th:only-of-type {\n",
       "        vertical-align: middle;\n",
       "    }\n",
       "\n",
       "    .dataframe tbody tr th {\n",
       "        vertical-align: top;\n",
       "    }\n",
       "\n",
       "    .dataframe thead th {\n",
       "        text-align: right;\n",
       "    }\n",
       "</style>\n",
       "<table border=\"1\" class=\"dataframe\">\n",
       "  <thead>\n",
       "    <tr style=\"text-align: right;\">\n",
       "      <th></th>\n",
       "      <th>Feature</th>\n",
       "      <th>Polynomial Importance</th>\n",
       "      <th>Kernel Importance</th>\n",
       "    </tr>\n",
       "  </thead>\n",
       "  <tbody>\n",
       "    <tr>\n",
       "      <th>4</th>\n",
       "      <td>Eye Fissure Index</td>\n",
       "      <td>0.192191</td>\n",
       "      <td>0.184472</td>\n",
       "    </tr>\n",
       "    <tr>\n",
       "      <th>1</th>\n",
       "      <td>Mandibular Index</td>\n",
       "      <td>0.091105</td>\n",
       "      <td>0.016482</td>\n",
       "    </tr>\n",
       "    <tr>\n",
       "      <th>0</th>\n",
       "      <td>Facial Index</td>\n",
       "      <td>0.074258</td>\n",
       "      <td>0.056731</td>\n",
       "    </tr>\n",
       "    <tr>\n",
       "      <th>5</th>\n",
       "      <td>Vermilion Height Index</td>\n",
       "      <td>0.038170</td>\n",
       "      <td>-0.035863</td>\n",
       "    </tr>\n",
       "    <tr>\n",
       "      <th>2</th>\n",
       "      <td>Intercantal Index</td>\n",
       "      <td>0.038075</td>\n",
       "      <td>-0.001118</td>\n",
       "    </tr>\n",
       "  </tbody>\n",
       "</table>\n",
       "</div>"
      ],
      "text/plain": [
       "                  Feature  Polynomial Importance  Kernel Importance\n",
       "4       Eye Fissure Index               0.192191           0.184472\n",
       "1        Mandibular Index               0.091105           0.016482\n",
       "0            Facial Index               0.074258           0.056731\n",
       "5  Vermilion Height Index               0.038170          -0.035863\n",
       "2       Intercantal Index               0.038075          -0.001118"
      ]
     },
     "execution_count": 73,
     "metadata": {},
     "output_type": "execute_result"
    }
   ],
   "source": [
    "importance_df.head()"
   ]
  },
  {
   "cell_type": "code",
   "execution_count": 74,
   "metadata": {
    "colab": {},
    "colab_type": "code",
    "id": "Yg4FvpB34RQB"
   },
   "outputs": [],
   "source": [
    "importance_df.to_csv(dir +'/feature_importance_by_model.csv',index=False)"
   ]
  },
  {
   "cell_type": "markdown",
   "metadata": {
    "colab_type": "text",
    "id": "1rNJmzHC7l62"
   },
   "source": [
    "# Plotting the actual and predicted values using Polynomial and Kernel Regression"
   ]
  },
  {
   "cell_type": "markdown",
   "metadata": {
    "colab_type": "text",
    "id": "zTUOf8pU7u9m"
   },
   "source": [
    "### dropping the 'Mouth Face Width Index'  feature for polynomial model and dropping 'Mouth Face Width Index','Vermilion Height Index' for Kernel Regression"
   ]
  },
  {
   "cell_type": "code",
   "execution_count": 40,
   "metadata": {
    "colab": {},
    "colab_type": "code",
    "id": "yTBk0eTa7xT4"
   },
   "outputs": [],
   "source": [
    "valid['Polynomial Prediction'] = poly.predict(X_valid.drop(['Mouth Face Width Index'], axis=1))\n",
    "valid['Kernel Prediction'] = kr.predict(X_valid.drop(['Mouth Face Width Index','Vermilion Height Index'], axis=1))"
   ]
  },
  {
   "cell_type": "markdown",
   "metadata": {
    "colab_type": "text",
    "id": "MsTN4_NS75Uo"
   },
   "source": [
    "## New columns in the validation data to store the errors for Polynomial and Kernel regression errors"
   ]
  },
  {
   "cell_type": "code",
   "execution_count": 41,
   "metadata": {
    "colab": {
     "base_uri": "https://localhost:8080/",
     "height": 91
    },
    "colab_type": "code",
    "id": "Mkr2PDWROD7s",
    "outputId": "a5746679-7f4c-41b5-9407-af63e4fbc03b"
   },
   "outputs": [
    {
     "data": {
      "text/plain": [
       "Index(['Facial Index', 'Mandibular Index', 'Intercantal Index',\n",
       "       'Orbital Width Index', 'Eye Fissure Index', 'Vermilion Height Index',\n",
       "       'Mouth Face Width Index'],\n",
       "      dtype='object')"
      ]
     },
     "execution_count": 41,
     "metadata": {},
     "output_type": "execute_result"
    }
   ],
   "source": [
    "X_valid.columns"
   ]
  },
  {
   "cell_type": "code",
   "execution_count": 85,
   "metadata": {
    "colab": {},
    "colab_type": "code",
    "id": "Ta8vygGL76xR"
   },
   "outputs": [],
   "source": [
    "valid['Polynomial Error'] = abs(valid[['AGE']] -  poly.predict(X_valid.drop(['Mouth Face Width Index'], axis=1)))"
   ]
  },
  {
   "cell_type": "code",
   "execution_count": 86,
   "metadata": {
    "colab": {},
    "colab_type": "code",
    "id": "6B-qHZPe8WTl"
   },
   "outputs": [],
   "source": [
    "valid['Kernel Error'] = abs(valid[['AGE']] -  kr.predict(X_valid.drop(['Mouth Face Width Index','Vermilion Height Index'], axis=1)))"
   ]
  },
  {
   "cell_type": "markdown",
   "metadata": {
    "colab_type": "text",
    "id": "jSNLyx5kO8FF"
   },
   "source": [
    "## saving the results in csv"
   ]
  },
  {
   "cell_type": "code",
   "execution_count": 87,
   "metadata": {
    "colab": {},
    "colab_type": "code",
    "id": "nDLug7FNO93S"
   },
   "outputs": [],
   "source": [
    "valid.to_csv(dir +'/validation.csv',index=False)"
   ]
  },
  {
   "cell_type": "code",
   "execution_count": 45,
   "metadata": {},
   "outputs": [],
   "source": [
    "valid=pd.read_csv(dir +'/validation.csv')\n"
   ]
  },
  {
   "cell_type": "code",
   "execution_count": 95,
   "metadata": {},
   "outputs": [
    {
     "data": {
      "text/plain": [
       "(212, 13)"
      ]
     },
     "execution_count": 95,
     "metadata": {},
     "output_type": "execute_result"
    }
   ],
   "source": [
    "valid.shape"
   ]
  },
  {
   "cell_type": "code",
   "execution_count": 103,
   "metadata": {},
   "outputs": [
    {
     "data": {
      "text/html": [
       "<div>\n",
       "<style scoped>\n",
       "    .dataframe tbody tr th:only-of-type {\n",
       "        vertical-align: middle;\n",
       "    }\n",
       "\n",
       "    .dataframe tbody tr th {\n",
       "        vertical-align: top;\n",
       "    }\n",
       "\n",
       "    .dataframe thead th {\n",
       "        text-align: right;\n",
       "    }\n",
       "</style>\n",
       "<table border=\"1\" class=\"dataframe\">\n",
       "  <thead>\n",
       "    <tr style=\"text-align: right;\">\n",
       "      <th></th>\n",
       "      <th>ID</th>\n",
       "      <th>Facial Index</th>\n",
       "      <th>Mandibular Index</th>\n",
       "      <th>Intercantal Index</th>\n",
       "      <th>Orbital Width Index</th>\n",
       "      <th>Eye Fissure Index</th>\n",
       "      <th>Vermilion Height Index</th>\n",
       "      <th>Mouth Face Width Index</th>\n",
       "      <th>AGE</th>\n",
       "      <th>Polynomial Prediction</th>\n",
       "      <th>Kernel Prediction</th>\n",
       "      <th>Polynomial Error</th>\n",
       "      <th>Kernel Error</th>\n",
       "    </tr>\n",
       "  </thead>\n",
       "  <tbody>\n",
       "    <tr>\n",
       "      <th>0</th>\n",
       "      <td>67</td>\n",
       "      <td>0.801202</td>\n",
       "      <td>0.384110</td>\n",
       "      <td>0.455566</td>\n",
       "      <td>0.595388</td>\n",
       "      <td>0.510064</td>\n",
       "      <td>0.710879</td>\n",
       "      <td>0.341422</td>\n",
       "      <td>4</td>\n",
       "      <td>8.569194</td>\n",
       "      <td>8.298242</td>\n",
       "      <td>4.569194</td>\n",
       "      <td>4.298242</td>\n",
       "    </tr>\n",
       "    <tr>\n",
       "      <th>1</th>\n",
       "      <td>67</td>\n",
       "      <td>0.875611</td>\n",
       "      <td>0.479769</td>\n",
       "      <td>0.466780</td>\n",
       "      <td>0.576396</td>\n",
       "      <td>0.320052</td>\n",
       "      <td>0.604060</td>\n",
       "      <td>0.466489</td>\n",
       "      <td>14</td>\n",
       "      <td>20.945312</td>\n",
       "      <td>21.427020</td>\n",
       "      <td>6.945312</td>\n",
       "      <td>7.427020</td>\n",
       "    </tr>\n",
       "    <tr>\n",
       "      <th>2</th>\n",
       "      <td>67</td>\n",
       "      <td>0.863706</td>\n",
       "      <td>0.466225</td>\n",
       "      <td>0.407972</td>\n",
       "      <td>0.755228</td>\n",
       "      <td>0.442781</td>\n",
       "      <td>0.523772</td>\n",
       "      <td>0.465587</td>\n",
       "      <td>17</td>\n",
       "      <td>16.264865</td>\n",
       "      <td>17.175629</td>\n",
       "      <td>0.735135</td>\n",
       "      <td>0.175629</td>\n",
       "    </tr>\n",
       "    <tr>\n",
       "      <th>3</th>\n",
       "      <td>67</td>\n",
       "      <td>0.865090</td>\n",
       "      <td>0.467520</td>\n",
       "      <td>0.385056</td>\n",
       "      <td>0.765559</td>\n",
       "      <td>0.337882</td>\n",
       "      <td>0.478256</td>\n",
       "      <td>0.381578</td>\n",
       "      <td>21</td>\n",
       "      <td>20.118157</td>\n",
       "      <td>22.162841</td>\n",
       "      <td>0.881843</td>\n",
       "      <td>1.162841</td>\n",
       "    </tr>\n",
       "    <tr>\n",
       "      <th>4</th>\n",
       "      <td>67</td>\n",
       "      <td>0.968960</td>\n",
       "      <td>0.498956</td>\n",
       "      <td>0.373540</td>\n",
       "      <td>0.940281</td>\n",
       "      <td>0.452196</td>\n",
       "      <td>0.526305</td>\n",
       "      <td>0.376770</td>\n",
       "      <td>23</td>\n",
       "      <td>22.120715</td>\n",
       "      <td>22.654282</td>\n",
       "      <td>0.879285</td>\n",
       "      <td>0.345718</td>\n",
       "    </tr>\n",
       "    <tr>\n",
       "      <th>5</th>\n",
       "      <td>67</td>\n",
       "      <td>0.916852</td>\n",
       "      <td>0.461898</td>\n",
       "      <td>0.399393</td>\n",
       "      <td>0.759700</td>\n",
       "      <td>0.410367</td>\n",
       "      <td>0.865883</td>\n",
       "      <td>0.436072</td>\n",
       "      <td>26</td>\n",
       "      <td>19.990857</td>\n",
       "      <td>20.821908</td>\n",
       "      <td>6.009143</td>\n",
       "      <td>5.178092</td>\n",
       "    </tr>\n",
       "    <tr>\n",
       "      <th>6</th>\n",
       "      <td>67</td>\n",
       "      <td>0.937980</td>\n",
       "      <td>0.529639</td>\n",
       "      <td>0.409808</td>\n",
       "      <td>0.789669</td>\n",
       "      <td>0.413607</td>\n",
       "      <td>0.907875</td>\n",
       "      <td>0.449523</td>\n",
       "      <td>28</td>\n",
       "      <td>22.513484</td>\n",
       "      <td>21.912476</td>\n",
       "      <td>5.486516</td>\n",
       "      <td>6.087524</td>\n",
       "    </tr>\n",
       "    <tr>\n",
       "      <th>7</th>\n",
       "      <td>67</td>\n",
       "      <td>0.943741</td>\n",
       "      <td>0.485324</td>\n",
       "      <td>0.431990</td>\n",
       "      <td>0.665502</td>\n",
       "      <td>0.337477</td>\n",
       "      <td>0.721899</td>\n",
       "      <td>0.494448</td>\n",
       "      <td>30</td>\n",
       "      <td>24.093716</td>\n",
       "      <td>24.648306</td>\n",
       "      <td>5.906284</td>\n",
       "      <td>5.351694</td>\n",
       "    </tr>\n",
       "    <tr>\n",
       "      <th>8</th>\n",
       "      <td>67</td>\n",
       "      <td>0.950749</td>\n",
       "      <td>0.446025</td>\n",
       "      <td>0.422503</td>\n",
       "      <td>0.693731</td>\n",
       "      <td>0.360759</td>\n",
       "      <td>0.781372</td>\n",
       "      <td>0.510735</td>\n",
       "      <td>33</td>\n",
       "      <td>22.744971</td>\n",
       "      <td>23.584209</td>\n",
       "      <td>10.255029</td>\n",
       "      <td>9.415791</td>\n",
       "    </tr>\n",
       "    <tr>\n",
       "      <th>9</th>\n",
       "      <td>67</td>\n",
       "      <td>0.876968</td>\n",
       "      <td>0.410203</td>\n",
       "      <td>0.400791</td>\n",
       "      <td>0.754715</td>\n",
       "      <td>0.356641</td>\n",
       "      <td>0.595861</td>\n",
       "      <td>0.442349</td>\n",
       "      <td>39</td>\n",
       "      <td>18.526719</td>\n",
       "      <td>19.673195</td>\n",
       "      <td>20.473281</td>\n",
       "      <td>19.326805</td>\n",
       "    </tr>\n",
       "    <tr>\n",
       "      <th>10</th>\n",
       "      <td>68</td>\n",
       "      <td>0.723681</td>\n",
       "      <td>0.315916</td>\n",
       "      <td>0.451235</td>\n",
       "      <td>0.622292</td>\n",
       "      <td>0.398556</td>\n",
       "      <td>0.744509</td>\n",
       "      <td>0.458497</td>\n",
       "      <td>0</td>\n",
       "      <td>6.937944</td>\n",
       "      <td>2.523434</td>\n",
       "      <td>6.937944</td>\n",
       "      <td>2.523434</td>\n",
       "    </tr>\n",
       "    <tr>\n",
       "      <th>11</th>\n",
       "      <td>68</td>\n",
       "      <td>0.795288</td>\n",
       "      <td>0.387565</td>\n",
       "      <td>0.426602</td>\n",
       "      <td>0.666161</td>\n",
       "      <td>0.415783</td>\n",
       "      <td>0.422865</td>\n",
       "      <td>0.376601</td>\n",
       "      <td>3</td>\n",
       "      <td>11.742929</td>\n",
       "      <td>10.788403</td>\n",
       "      <td>8.742929</td>\n",
       "      <td>7.788403</td>\n",
       "    </tr>\n",
       "    <tr>\n",
       "      <th>12</th>\n",
       "      <td>68</td>\n",
       "      <td>0.832444</td>\n",
       "      <td>0.416932</td>\n",
       "      <td>0.485602</td>\n",
       "      <td>0.591559</td>\n",
       "      <td>0.441346</td>\n",
       "      <td>0.380599</td>\n",
       "      <td>0.349875</td>\n",
       "      <td>4</td>\n",
       "      <td>12.936269</td>\n",
       "      <td>13.628986</td>\n",
       "      <td>8.936269</td>\n",
       "      <td>9.628986</td>\n",
       "    </tr>\n",
       "    <tr>\n",
       "      <th>13</th>\n",
       "      <td>68</td>\n",
       "      <td>0.848413</td>\n",
       "      <td>0.336759</td>\n",
       "      <td>0.388908</td>\n",
       "      <td>0.806462</td>\n",
       "      <td>0.391589</td>\n",
       "      <td>1.077957</td>\n",
       "      <td>0.440143</td>\n",
       "      <td>9</td>\n",
       "      <td>14.303028</td>\n",
       "      <td>12.403983</td>\n",
       "      <td>5.303028</td>\n",
       "      <td>3.403983</td>\n",
       "    </tr>\n",
       "    <tr>\n",
       "      <th>14</th>\n",
       "      <td>68</td>\n",
       "      <td>0.900034</td>\n",
       "      <td>0.458589</td>\n",
       "      <td>0.441943</td>\n",
       "      <td>0.640008</td>\n",
       "      <td>0.342780</td>\n",
       "      <td>0.662809</td>\n",
       "      <td>0.459788</td>\n",
       "      <td>10</td>\n",
       "      <td>21.031678</td>\n",
       "      <td>23.218642</td>\n",
       "      <td>11.031678</td>\n",
       "      <td>13.218642</td>\n",
       "    </tr>\n",
       "    <tr>\n",
       "      <th>15</th>\n",
       "      <td>68</td>\n",
       "      <td>0.816920</td>\n",
       "      <td>0.367093</td>\n",
       "      <td>0.439075</td>\n",
       "      <td>0.672176</td>\n",
       "      <td>0.459994</td>\n",
       "      <td>0.506825</td>\n",
       "      <td>0.431236</td>\n",
       "      <td>10</td>\n",
       "      <td>10.691729</td>\n",
       "      <td>9.512482</td>\n",
       "      <td>0.691729</td>\n",
       "      <td>0.487518</td>\n",
       "    </tr>\n",
       "    <tr>\n",
       "      <th>16</th>\n",
       "      <td>68</td>\n",
       "      <td>0.891321</td>\n",
       "      <td>0.450658</td>\n",
       "      <td>0.428554</td>\n",
       "      <td>0.662881</td>\n",
       "      <td>0.434456</td>\n",
       "      <td>0.484993</td>\n",
       "      <td>0.437113</td>\n",
       "      <td>11</td>\n",
       "      <td>17.349125</td>\n",
       "      <td>19.173143</td>\n",
       "      <td>6.349125</td>\n",
       "      <td>8.173143</td>\n",
       "    </tr>\n",
       "    <tr>\n",
       "      <th>17</th>\n",
       "      <td>68</td>\n",
       "      <td>0.863201</td>\n",
       "      <td>0.406350</td>\n",
       "      <td>0.441420</td>\n",
       "      <td>0.646582</td>\n",
       "      <td>0.409864</td>\n",
       "      <td>0.539299</td>\n",
       "      <td>0.399875</td>\n",
       "      <td>12</td>\n",
       "      <td>15.625649</td>\n",
       "      <td>17.405320</td>\n",
       "      <td>3.625649</td>\n",
       "      <td>5.405320</td>\n",
       "    </tr>\n",
       "    <tr>\n",
       "      <th>18</th>\n",
       "      <td>68</td>\n",
       "      <td>0.930859</td>\n",
       "      <td>0.517591</td>\n",
       "      <td>0.439360</td>\n",
       "      <td>0.495558</td>\n",
       "      <td>0.524475</td>\n",
       "      <td>0.760008</td>\n",
       "      <td>0.369084</td>\n",
       "      <td>13</td>\n",
       "      <td>17.878750</td>\n",
       "      <td>17.899665</td>\n",
       "      <td>4.878750</td>\n",
       "      <td>4.899665</td>\n",
       "    </tr>\n",
       "    <tr>\n",
       "      <th>19</th>\n",
       "      <td>68</td>\n",
       "      <td>0.824566</td>\n",
       "      <td>0.371477</td>\n",
       "      <td>0.445469</td>\n",
       "      <td>0.636430</td>\n",
       "      <td>0.410562</td>\n",
       "      <td>0.475344</td>\n",
       "      <td>0.431035</td>\n",
       "      <td>14</td>\n",
       "      <td>12.808428</td>\n",
       "      <td>13.058558</td>\n",
       "      <td>1.191572</td>\n",
       "      <td>0.941442</td>\n",
       "    </tr>\n",
       "    <tr>\n",
       "      <th>20</th>\n",
       "      <td>69</td>\n",
       "      <td>0.774949</td>\n",
       "      <td>0.373531</td>\n",
       "      <td>0.417968</td>\n",
       "      <td>0.729642</td>\n",
       "      <td>0.482942</td>\n",
       "      <td>0.771596</td>\n",
       "      <td>0.240040</td>\n",
       "      <td>0</td>\n",
       "      <td>8.243066</td>\n",
       "      <td>5.298591</td>\n",
       "      <td>8.243066</td>\n",
       "      <td>5.298591</td>\n",
       "    </tr>\n",
       "    <tr>\n",
       "      <th>21</th>\n",
       "      <td>69</td>\n",
       "      <td>0.888181</td>\n",
       "      <td>0.430542</td>\n",
       "      <td>0.428040</td>\n",
       "      <td>0.690867</td>\n",
       "      <td>0.511683</td>\n",
       "      <td>0.474394</td>\n",
       "      <td>0.339886</td>\n",
       "      <td>2</td>\n",
       "      <td>14.056191</td>\n",
       "      <td>13.980498</td>\n",
       "      <td>12.056191</td>\n",
       "      <td>11.980498</td>\n",
       "    </tr>\n",
       "    <tr>\n",
       "      <th>22</th>\n",
       "      <td>69</td>\n",
       "      <td>0.827776</td>\n",
       "      <td>0.386981</td>\n",
       "      <td>0.420557</td>\n",
       "      <td>0.710559</td>\n",
       "      <td>0.501883</td>\n",
       "      <td>0.645129</td>\n",
       "      <td>0.307383</td>\n",
       "      <td>3</td>\n",
       "      <td>10.458820</td>\n",
       "      <td>8.838784</td>\n",
       "      <td>7.458820</td>\n",
       "      <td>5.838784</td>\n",
       "    </tr>\n",
       "    <tr>\n",
       "      <th>23</th>\n",
       "      <td>69</td>\n",
       "      <td>0.897764</td>\n",
       "      <td>0.409616</td>\n",
       "      <td>0.392863</td>\n",
       "      <td>0.821528</td>\n",
       "      <td>0.441617</td>\n",
       "      <td>0.709142</td>\n",
       "      <td>0.345404</td>\n",
       "      <td>4</td>\n",
       "      <td>16.698996</td>\n",
       "      <td>16.588925</td>\n",
       "      <td>12.698996</td>\n",
       "      <td>12.588925</td>\n",
       "    </tr>\n",
       "    <tr>\n",
       "      <th>24</th>\n",
       "      <td>69</td>\n",
       "      <td>0.895169</td>\n",
       "      <td>0.414384</td>\n",
       "      <td>0.396168</td>\n",
       "      <td>0.794795</td>\n",
       "      <td>0.441617</td>\n",
       "      <td>0.709142</td>\n",
       "      <td>0.337826</td>\n",
       "      <td>5</td>\n",
       "      <td>16.670628</td>\n",
       "      <td>16.600112</td>\n",
       "      <td>11.670628</td>\n",
       "      <td>11.600112</td>\n",
       "    </tr>\n",
       "    <tr>\n",
       "      <th>25</th>\n",
       "      <td>69</td>\n",
       "      <td>0.842321</td>\n",
       "      <td>0.408091</td>\n",
       "      <td>0.439455</td>\n",
       "      <td>0.612213</td>\n",
       "      <td>0.402906</td>\n",
       "      <td>0.807474</td>\n",
       "      <td>0.348268</td>\n",
       "      <td>6</td>\n",
       "      <td>14.971520</td>\n",
       "      <td>16.486279</td>\n",
       "      <td>8.971520</td>\n",
       "      <td>10.486279</td>\n",
       "    </tr>\n",
       "    <tr>\n",
       "      <th>26</th>\n",
       "      <td>69</td>\n",
       "      <td>0.867328</td>\n",
       "      <td>0.396922</td>\n",
       "      <td>0.435051</td>\n",
       "      <td>0.666868</td>\n",
       "      <td>0.438003</td>\n",
       "      <td>0.556659</td>\n",
       "      <td>0.391043</td>\n",
       "      <td>7</td>\n",
       "      <td>14.682776</td>\n",
       "      <td>15.753217</td>\n",
       "      <td>7.682776</td>\n",
       "      <td>8.753217</td>\n",
       "    </tr>\n",
       "    <tr>\n",
       "      <th>27</th>\n",
       "      <td>69</td>\n",
       "      <td>0.891839</td>\n",
       "      <td>0.461770</td>\n",
       "      <td>0.452614</td>\n",
       "      <td>0.617397</td>\n",
       "      <td>0.379058</td>\n",
       "      <td>0.696034</td>\n",
       "      <td>0.409681</td>\n",
       "      <td>9</td>\n",
       "      <td>19.399657</td>\n",
       "      <td>21.732478</td>\n",
       "      <td>10.399657</td>\n",
       "      <td>12.732478</td>\n",
       "    </tr>\n",
       "    <tr>\n",
       "      <th>28</th>\n",
       "      <td>69</td>\n",
       "      <td>0.962191</td>\n",
       "      <td>0.577471</td>\n",
       "      <td>0.442180</td>\n",
       "      <td>0.773173</td>\n",
       "      <td>0.473349</td>\n",
       "      <td>0.459342</td>\n",
       "      <td>0.313368</td>\n",
       "      <td>10</td>\n",
       "      <td>22.488998</td>\n",
       "      <td>18.159141</td>\n",
       "      <td>12.488998</td>\n",
       "      <td>8.159141</td>\n",
       "    </tr>\n",
       "    <tr>\n",
       "      <th>29</th>\n",
       "      <td>69</td>\n",
       "      <td>0.870399</td>\n",
       "      <td>0.441158</td>\n",
       "      <td>0.395369</td>\n",
       "      <td>0.805811</td>\n",
       "      <td>0.462082</td>\n",
       "      <td>0.664970</td>\n",
       "      <td>0.378925</td>\n",
       "      <td>11</td>\n",
       "      <td>15.429072</td>\n",
       "      <td>16.007545</td>\n",
       "      <td>4.429072</td>\n",
       "      <td>5.007545</td>\n",
       "    </tr>\n",
       "    <tr>\n",
       "      <th>30</th>\n",
       "      <td>69</td>\n",
       "      <td>0.986923</td>\n",
       "      <td>0.491762</td>\n",
       "      <td>0.411745</td>\n",
       "      <td>0.717420</td>\n",
       "      <td>0.485920</td>\n",
       "      <td>0.845076</td>\n",
       "      <td>0.366123</td>\n",
       "      <td>13</td>\n",
       "      <td>21.471556</td>\n",
       "      <td>19.120096</td>\n",
       "      <td>8.471556</td>\n",
       "      <td>6.120096</td>\n",
       "    </tr>\n",
       "    <tr>\n",
       "      <th>31</th>\n",
       "      <td>70</td>\n",
       "      <td>0.822270</td>\n",
       "      <td>0.377628</td>\n",
       "      <td>0.366021</td>\n",
       "      <td>0.930229</td>\n",
       "      <td>0.530002</td>\n",
       "      <td>0.678224</td>\n",
       "      <td>0.280622</td>\n",
       "      <td>0</td>\n",
       "      <td>9.401472</td>\n",
       "      <td>11.102637</td>\n",
       "      <td>9.401472</td>\n",
       "      <td>11.102637</td>\n",
       "    </tr>\n",
       "    <tr>\n",
       "      <th>32</th>\n",
       "      <td>70</td>\n",
       "      <td>0.826603</td>\n",
       "      <td>0.423726</td>\n",
       "      <td>0.346410</td>\n",
       "      <td>1.102992</td>\n",
       "      <td>0.346649</td>\n",
       "      <td>0.890232</td>\n",
       "      <td>0.290419</td>\n",
       "      <td>1</td>\n",
       "      <td>17.181831</td>\n",
       "      <td>21.392449</td>\n",
       "      <td>16.181831</td>\n",
       "      <td>20.392449</td>\n",
       "    </tr>\n",
       "    <tr>\n",
       "      <th>33</th>\n",
       "      <td>70</td>\n",
       "      <td>0.800908</td>\n",
       "      <td>0.403591</td>\n",
       "      <td>0.428114</td>\n",
       "      <td>0.716413</td>\n",
       "      <td>0.441068</td>\n",
       "      <td>0.453993</td>\n",
       "      <td>0.352641</td>\n",
       "      <td>2</td>\n",
       "      <td>11.536036</td>\n",
       "      <td>10.306296</td>\n",
       "      <td>9.536036</td>\n",
       "      <td>8.306296</td>\n",
       "    </tr>\n",
       "  </tbody>\n",
       "</table>\n",
       "</div>"
      ],
      "text/plain": [
       "    ID  Facial Index  Mandibular Index  Intercantal Index  \\\n",
       "0   67      0.801202          0.384110           0.455566   \n",
       "1   67      0.875611          0.479769           0.466780   \n",
       "2   67      0.863706          0.466225           0.407972   \n",
       "3   67      0.865090          0.467520           0.385056   \n",
       "4   67      0.968960          0.498956           0.373540   \n",
       "5   67      0.916852          0.461898           0.399393   \n",
       "6   67      0.937980          0.529639           0.409808   \n",
       "7   67      0.943741          0.485324           0.431990   \n",
       "8   67      0.950749          0.446025           0.422503   \n",
       "9   67      0.876968          0.410203           0.400791   \n",
       "10  68      0.723681          0.315916           0.451235   \n",
       "11  68      0.795288          0.387565           0.426602   \n",
       "12  68      0.832444          0.416932           0.485602   \n",
       "13  68      0.848413          0.336759           0.388908   \n",
       "14  68      0.900034          0.458589           0.441943   \n",
       "15  68      0.816920          0.367093           0.439075   \n",
       "16  68      0.891321          0.450658           0.428554   \n",
       "17  68      0.863201          0.406350           0.441420   \n",
       "18  68      0.930859          0.517591           0.439360   \n",
       "19  68      0.824566          0.371477           0.445469   \n",
       "20  69      0.774949          0.373531           0.417968   \n",
       "21  69      0.888181          0.430542           0.428040   \n",
       "22  69      0.827776          0.386981           0.420557   \n",
       "23  69      0.897764          0.409616           0.392863   \n",
       "24  69      0.895169          0.414384           0.396168   \n",
       "25  69      0.842321          0.408091           0.439455   \n",
       "26  69      0.867328          0.396922           0.435051   \n",
       "27  69      0.891839          0.461770           0.452614   \n",
       "28  69      0.962191          0.577471           0.442180   \n",
       "29  69      0.870399          0.441158           0.395369   \n",
       "30  69      0.986923          0.491762           0.411745   \n",
       "31  70      0.822270          0.377628           0.366021   \n",
       "32  70      0.826603          0.423726           0.346410   \n",
       "33  70      0.800908          0.403591           0.428114   \n",
       "\n",
       "    Orbital Width Index  Eye Fissure Index  Vermilion Height Index  \\\n",
       "0              0.595388           0.510064                0.710879   \n",
       "1              0.576396           0.320052                0.604060   \n",
       "2              0.755228           0.442781                0.523772   \n",
       "3              0.765559           0.337882                0.478256   \n",
       "4              0.940281           0.452196                0.526305   \n",
       "5              0.759700           0.410367                0.865883   \n",
       "6              0.789669           0.413607                0.907875   \n",
       "7              0.665502           0.337477                0.721899   \n",
       "8              0.693731           0.360759                0.781372   \n",
       "9              0.754715           0.356641                0.595861   \n",
       "10             0.622292           0.398556                0.744509   \n",
       "11             0.666161           0.415783                0.422865   \n",
       "12             0.591559           0.441346                0.380599   \n",
       "13             0.806462           0.391589                1.077957   \n",
       "14             0.640008           0.342780                0.662809   \n",
       "15             0.672176           0.459994                0.506825   \n",
       "16             0.662881           0.434456                0.484993   \n",
       "17             0.646582           0.409864                0.539299   \n",
       "18             0.495558           0.524475                0.760008   \n",
       "19             0.636430           0.410562                0.475344   \n",
       "20             0.729642           0.482942                0.771596   \n",
       "21             0.690867           0.511683                0.474394   \n",
       "22             0.710559           0.501883                0.645129   \n",
       "23             0.821528           0.441617                0.709142   \n",
       "24             0.794795           0.441617                0.709142   \n",
       "25             0.612213           0.402906                0.807474   \n",
       "26             0.666868           0.438003                0.556659   \n",
       "27             0.617397           0.379058                0.696034   \n",
       "28             0.773173           0.473349                0.459342   \n",
       "29             0.805811           0.462082                0.664970   \n",
       "30             0.717420           0.485920                0.845076   \n",
       "31             0.930229           0.530002                0.678224   \n",
       "32             1.102992           0.346649                0.890232   \n",
       "33             0.716413           0.441068                0.453993   \n",
       "\n",
       "    Mouth Face Width Index  AGE  Polynomial Prediction  Kernel Prediction  \\\n",
       "0                 0.341422    4               8.569194           8.298242   \n",
       "1                 0.466489   14              20.945312          21.427020   \n",
       "2                 0.465587   17              16.264865          17.175629   \n",
       "3                 0.381578   21              20.118157          22.162841   \n",
       "4                 0.376770   23              22.120715          22.654282   \n",
       "5                 0.436072   26              19.990857          20.821908   \n",
       "6                 0.449523   28              22.513484          21.912476   \n",
       "7                 0.494448   30              24.093716          24.648306   \n",
       "8                 0.510735   33              22.744971          23.584209   \n",
       "9                 0.442349   39              18.526719          19.673195   \n",
       "10                0.458497    0               6.937944           2.523434   \n",
       "11                0.376601    3              11.742929          10.788403   \n",
       "12                0.349875    4              12.936269          13.628986   \n",
       "13                0.440143    9              14.303028          12.403983   \n",
       "14                0.459788   10              21.031678          23.218642   \n",
       "15                0.431236   10              10.691729           9.512482   \n",
       "16                0.437113   11              17.349125          19.173143   \n",
       "17                0.399875   12              15.625649          17.405320   \n",
       "18                0.369084   13              17.878750          17.899665   \n",
       "19                0.431035   14              12.808428          13.058558   \n",
       "20                0.240040    0               8.243066           5.298591   \n",
       "21                0.339886    2              14.056191          13.980498   \n",
       "22                0.307383    3              10.458820           8.838784   \n",
       "23                0.345404    4              16.698996          16.588925   \n",
       "24                0.337826    5              16.670628          16.600112   \n",
       "25                0.348268    6              14.971520          16.486279   \n",
       "26                0.391043    7              14.682776          15.753217   \n",
       "27                0.409681    9              19.399657          21.732478   \n",
       "28                0.313368   10              22.488998          18.159141   \n",
       "29                0.378925   11              15.429072          16.007545   \n",
       "30                0.366123   13              21.471556          19.120096   \n",
       "31                0.280622    0               9.401472          11.102637   \n",
       "32                0.290419    1              17.181831          21.392449   \n",
       "33                0.352641    2              11.536036          10.306296   \n",
       "\n",
       "    Polynomial Error  Kernel Error  \n",
       "0           4.569194      4.298242  \n",
       "1           6.945312      7.427020  \n",
       "2           0.735135      0.175629  \n",
       "3           0.881843      1.162841  \n",
       "4           0.879285      0.345718  \n",
       "5           6.009143      5.178092  \n",
       "6           5.486516      6.087524  \n",
       "7           5.906284      5.351694  \n",
       "8          10.255029      9.415791  \n",
       "9          20.473281     19.326805  \n",
       "10          6.937944      2.523434  \n",
       "11          8.742929      7.788403  \n",
       "12          8.936269      9.628986  \n",
       "13          5.303028      3.403983  \n",
       "14         11.031678     13.218642  \n",
       "15          0.691729      0.487518  \n",
       "16          6.349125      8.173143  \n",
       "17          3.625649      5.405320  \n",
       "18          4.878750      4.899665  \n",
       "19          1.191572      0.941442  \n",
       "20          8.243066      5.298591  \n",
       "21         12.056191     11.980498  \n",
       "22          7.458820      5.838784  \n",
       "23         12.698996     12.588925  \n",
       "24         11.670628     11.600112  \n",
       "25          8.971520     10.486279  \n",
       "26          7.682776      8.753217  \n",
       "27         10.399657     12.732478  \n",
       "28         12.488998      8.159141  \n",
       "29          4.429072      5.007545  \n",
       "30          8.471556      6.120096  \n",
       "31          9.401472     11.102637  \n",
       "32         16.181831     20.392449  \n",
       "33          9.536036      8.306296  "
      ]
     },
     "execution_count": 103,
     "metadata": {},
     "output_type": "execute_result"
    }
   ],
   "source": [
    "valid.head(34)"
   ]
  },
  {
   "cell_type": "markdown",
   "metadata": {
    "colab_type": "text",
    "id": "YVulB2xKPJQ1"
   },
   "source": [
    "## plotting the actual and predicted values for both the models in the Validation dataset"
   ]
  },
  {
   "cell_type": "code",
   "execution_count": 120,
   "metadata": {},
   "outputs": [
    {
     "data": {
      "text/html": [
       "<div>\n",
       "<style scoped>\n",
       "    .dataframe tbody tr th:only-of-type {\n",
       "        vertical-align: middle;\n",
       "    }\n",
       "\n",
       "    .dataframe tbody tr th {\n",
       "        vertical-align: top;\n",
       "    }\n",
       "\n",
       "    .dataframe thead th {\n",
       "        text-align: right;\n",
       "    }\n",
       "</style>\n",
       "<table border=\"1\" class=\"dataframe\">\n",
       "  <thead>\n",
       "    <tr style=\"text-align: right;\">\n",
       "      <th></th>\n",
       "      <th>ID</th>\n",
       "      <th>Facial Index</th>\n",
       "      <th>Mandibular Index</th>\n",
       "      <th>Intercantal Index</th>\n",
       "      <th>Orbital Width Index</th>\n",
       "      <th>Eye Fissure Index</th>\n",
       "      <th>Vermilion Height Index</th>\n",
       "      <th>Mouth Face Width Index</th>\n",
       "      <th>AGE</th>\n",
       "      <th>Polynomial Prediction</th>\n",
       "      <th>Kernel Prediction</th>\n",
       "      <th>Polynomial Error</th>\n",
       "      <th>Kernel Error</th>\n",
       "    </tr>\n",
       "  </thead>\n",
       "  <tbody>\n",
       "    <tr>\n",
       "      <th>201</th>\n",
       "      <td>82</td>\n",
       "      <td>0.766796</td>\n",
       "      <td>0.316901</td>\n",
       "      <td>0.451261</td>\n",
       "      <td>0.595556</td>\n",
       "      <td>0.339884</td>\n",
       "      <td>0.842729</td>\n",
       "      <td>0.324346</td>\n",
       "      <td>0</td>\n",
       "      <td>11.088683</td>\n",
       "      <td>8.105840</td>\n",
       "      <td>11.088683</td>\n",
       "      <td>8.105840</td>\n",
       "    </tr>\n",
       "    <tr>\n",
       "      <th>202</th>\n",
       "      <td>82</td>\n",
       "      <td>0.823877</td>\n",
       "      <td>0.400643</td>\n",
       "      <td>0.389182</td>\n",
       "      <td>0.799787</td>\n",
       "      <td>0.455590</td>\n",
       "      <td>0.469132</td>\n",
       "      <td>0.304340</td>\n",
       "      <td>3</td>\n",
       "      <td>12.387378</td>\n",
       "      <td>12.022692</td>\n",
       "      <td>9.387378</td>\n",
       "      <td>9.022692</td>\n",
       "    </tr>\n",
       "    <tr>\n",
       "      <th>203</th>\n",
       "      <td>82</td>\n",
       "      <td>0.956653</td>\n",
       "      <td>0.436934</td>\n",
       "      <td>0.390209</td>\n",
       "      <td>0.783629</td>\n",
       "      <td>0.394072</td>\n",
       "      <td>0.555210</td>\n",
       "      <td>0.398375</td>\n",
       "      <td>16</td>\n",
       "      <td>21.864623</td>\n",
       "      <td>21.032567</td>\n",
       "      <td>5.864623</td>\n",
       "      <td>5.032567</td>\n",
       "    </tr>\n",
       "    <tr>\n",
       "      <th>204</th>\n",
       "      <td>82</td>\n",
       "      <td>0.999093</td>\n",
       "      <td>0.510771</td>\n",
       "      <td>0.387691</td>\n",
       "      <td>0.752627</td>\n",
       "      <td>0.389192</td>\n",
       "      <td>0.440878</td>\n",
       "      <td>0.367898</td>\n",
       "      <td>18</td>\n",
       "      <td>25.939509</td>\n",
       "      <td>22.465544</td>\n",
       "      <td>7.939509</td>\n",
       "      <td>4.465544</td>\n",
       "    </tr>\n",
       "    <tr>\n",
       "      <th>205</th>\n",
       "      <td>82</td>\n",
       "      <td>0.961396</td>\n",
       "      <td>0.486345</td>\n",
       "      <td>0.373479</td>\n",
       "      <td>0.883768</td>\n",
       "      <td>0.357279</td>\n",
       "      <td>0.411729</td>\n",
       "      <td>0.388931</td>\n",
       "      <td>20</td>\n",
       "      <td>24.665195</td>\n",
       "      <td>24.490473</td>\n",
       "      <td>4.665195</td>\n",
       "      <td>4.490473</td>\n",
       "    </tr>\n",
       "    <tr>\n",
       "      <th>206</th>\n",
       "      <td>82</td>\n",
       "      <td>0.944901</td>\n",
       "      <td>0.469341</td>\n",
       "      <td>0.421650</td>\n",
       "      <td>0.657527</td>\n",
       "      <td>0.342256</td>\n",
       "      <td>0.299782</td>\n",
       "      <td>0.377414</td>\n",
       "      <td>21</td>\n",
       "      <td>23.585170</td>\n",
       "      <td>24.700674</td>\n",
       "      <td>2.585170</td>\n",
       "      <td>3.700674</td>\n",
       "    </tr>\n",
       "    <tr>\n",
       "      <th>207</th>\n",
       "      <td>82</td>\n",
       "      <td>0.971190</td>\n",
       "      <td>0.456241</td>\n",
       "      <td>0.431464</td>\n",
       "      <td>0.688562</td>\n",
       "      <td>0.362097</td>\n",
       "      <td>0.776495</td>\n",
       "      <td>0.421004</td>\n",
       "      <td>22</td>\n",
       "      <td>23.875408</td>\n",
       "      <td>23.920206</td>\n",
       "      <td>1.875408</td>\n",
       "      <td>1.920206</td>\n",
       "    </tr>\n",
       "    <tr>\n",
       "      <th>208</th>\n",
       "      <td>82</td>\n",
       "      <td>0.922055</td>\n",
       "      <td>0.457388</td>\n",
       "      <td>0.366031</td>\n",
       "      <td>0.807954</td>\n",
       "      <td>0.402890</td>\n",
       "      <td>0.800289</td>\n",
       "      <td>0.386978</td>\n",
       "      <td>23</td>\n",
       "      <td>20.634496</td>\n",
       "      <td>21.588097</td>\n",
       "      <td>2.365504</td>\n",
       "      <td>1.411903</td>\n",
       "    </tr>\n",
       "    <tr>\n",
       "      <th>209</th>\n",
       "      <td>82</td>\n",
       "      <td>0.948693</td>\n",
       "      <td>0.473651</td>\n",
       "      <td>0.409538</td>\n",
       "      <td>0.731037</td>\n",
       "      <td>0.290797</td>\n",
       "      <td>0.600109</td>\n",
       "      <td>0.465623</td>\n",
       "      <td>25</td>\n",
       "      <td>25.778792</td>\n",
       "      <td>24.410817</td>\n",
       "      <td>0.778792</td>\n",
       "      <td>0.589183</td>\n",
       "    </tr>\n",
       "    <tr>\n",
       "      <th>210</th>\n",
       "      <td>82</td>\n",
       "      <td>0.914195</td>\n",
       "      <td>0.500786</td>\n",
       "      <td>0.416904</td>\n",
       "      <td>0.543606</td>\n",
       "      <td>0.480518</td>\n",
       "      <td>0.876548</td>\n",
       "      <td>0.394899</td>\n",
       "      <td>27</td>\n",
       "      <td>18.346106</td>\n",
       "      <td>19.502142</td>\n",
       "      <td>8.653894</td>\n",
       "      <td>7.497858</td>\n",
       "    </tr>\n",
       "    <tr>\n",
       "      <th>211</th>\n",
       "      <td>82</td>\n",
       "      <td>0.915017</td>\n",
       "      <td>0.478165</td>\n",
       "      <td>0.404374</td>\n",
       "      <td>0.681841</td>\n",
       "      <td>0.316847</td>\n",
       "      <td>0.735635</td>\n",
       "      <td>0.450559</td>\n",
       "      <td>31</td>\n",
       "      <td>23.446407</td>\n",
       "      <td>24.200164</td>\n",
       "      <td>7.553593</td>\n",
       "      <td>6.799836</td>\n",
       "    </tr>\n",
       "  </tbody>\n",
       "</table>\n",
       "</div>"
      ],
      "text/plain": [
       "     ID  Facial Index  Mandibular Index  Intercantal Index  \\\n",
       "201  82      0.766796          0.316901           0.451261   \n",
       "202  82      0.823877          0.400643           0.389182   \n",
       "203  82      0.956653          0.436934           0.390209   \n",
       "204  82      0.999093          0.510771           0.387691   \n",
       "205  82      0.961396          0.486345           0.373479   \n",
       "206  82      0.944901          0.469341           0.421650   \n",
       "207  82      0.971190          0.456241           0.431464   \n",
       "208  82      0.922055          0.457388           0.366031   \n",
       "209  82      0.948693          0.473651           0.409538   \n",
       "210  82      0.914195          0.500786           0.416904   \n",
       "211  82      0.915017          0.478165           0.404374   \n",
       "\n",
       "     Orbital Width Index  Eye Fissure Index  Vermilion Height Index  \\\n",
       "201             0.595556           0.339884                0.842729   \n",
       "202             0.799787           0.455590                0.469132   \n",
       "203             0.783629           0.394072                0.555210   \n",
       "204             0.752627           0.389192                0.440878   \n",
       "205             0.883768           0.357279                0.411729   \n",
       "206             0.657527           0.342256                0.299782   \n",
       "207             0.688562           0.362097                0.776495   \n",
       "208             0.807954           0.402890                0.800289   \n",
       "209             0.731037           0.290797                0.600109   \n",
       "210             0.543606           0.480518                0.876548   \n",
       "211             0.681841           0.316847                0.735635   \n",
       "\n",
       "     Mouth Face Width Index  AGE  Polynomial Prediction  Kernel Prediction  \\\n",
       "201                0.324346    0              11.088683           8.105840   \n",
       "202                0.304340    3              12.387378          12.022692   \n",
       "203                0.398375   16              21.864623          21.032567   \n",
       "204                0.367898   18              25.939509          22.465544   \n",
       "205                0.388931   20              24.665195          24.490473   \n",
       "206                0.377414   21              23.585170          24.700674   \n",
       "207                0.421004   22              23.875408          23.920206   \n",
       "208                0.386978   23              20.634496          21.588097   \n",
       "209                0.465623   25              25.778792          24.410817   \n",
       "210                0.394899   27              18.346106          19.502142   \n",
       "211                0.450559   31              23.446407          24.200164   \n",
       "\n",
       "     Polynomial Error  Kernel Error  \n",
       "201         11.088683      8.105840  \n",
       "202          9.387378      9.022692  \n",
       "203          5.864623      5.032567  \n",
       "204          7.939509      4.465544  \n",
       "205          4.665195      4.490473  \n",
       "206          2.585170      3.700674  \n",
       "207          1.875408      1.920206  \n",
       "208          2.365504      1.411903  \n",
       "209          0.778792      0.589183  \n",
       "210          8.653894      7.497858  \n",
       "211          7.553593      6.799836  "
      ]
     },
     "execution_count": 120,
     "metadata": {},
     "output_type": "execute_result"
    }
   ],
   "source": [
    "valid.loc[valid['ID']==82] "
   ]
  },
  {
   "cell_type": "code",
   "execution_count": 147,
   "metadata": {
    "colab": {
     "base_uri": "https://localhost:8080/",
     "height": 396
    },
    "colab_type": "code",
    "id": "PEvKgY5N7xMW",
    "outputId": "4c61c721-e9f8-4cfc-f33c-dc5def88eb85"
   },
   "outputs": [
    {
     "data": {
      "image/png": "[encoded data removed]",
      "text/plain": [
       "<Figure size 432x288 with 1 Axes>"
      ]
     },
     "metadata": {
      "needs_background": "light"
     },
     "output_type": "display_data"
    }
   ],
   "source": [
    "case1 = valid.loc[valid['ID']==82].copy() \n",
    "case1['x'] = [i for i in range(len(case1))]\n",
    "plt.title('Age samples of Person ID 82')\n",
    "plt.xlabel('Photo samples')\n",
    "plt.ylabel('Age in photo samples')\n",
    "plt.plot(case1['x'], case1['Polynomial Prediction'])\n",
    "\n",
    "plt.plot(case1['x'], case1['Kernel Prediction'])\n",
    "\n",
    "plt.plot(case1['x'], case1['AGE'])\n",
    "plt.legend(['Polynomial Regression Prediction','Kernel Regression  Prediction' , 'AGE'])\n",
    "plt.show()"
   ]
  },
  {
   "cell_type": "code",
   "execution_count": 127,
   "metadata": {},
   "outputs": [
    {
     "data": {
      "image/png": "[encoded data removed]",
      "text/plain": [
       "<Figure size 432x288 with 1 Axes>"
      ]
     },
     "metadata": {
      "needs_background": "light"
     },
     "output_type": "display_data"
    }
   ],
   "source": [
    "case1 = valid[valid['ID']==67].copy()\n",
    "case1['x'] = [i for i in range(len(case1))]\n",
    "\n",
    "plt.plot(case1['x'], case1['Polynomial Prediction'])\n",
    "\n",
    "plt.plot(case1['x'], case1['Kernel Prediction'])\n",
    "plt.title('Age samples of Person 67')\n",
    "plt.xlabel('Photo samples')\n",
    "plt.ylabel('Age in photo samples')\n",
    "plt.plot(case1['x'], case1['AGE'])\n",
    "plt.legend(['Polynomial Regression','Kernel Regression', 'AGE'])\n",
    "plt.show()"
   ]
  },
  {
   "cell_type": "markdown",
   "metadata": {
    "colab_type": "text",
    "id": "FaZdx-DTPiWW"
   },
   "source": [
    "# Which Model is better"
   ]
  },
  {
   "cell_type": "markdown",
   "metadata": {
    "colab_type": "text",
    "id": "_Z_aiq7IPoi6"
   },
   "source": [
    "#### We see that Kernel Regression Model is slightly better thant the Polonomial model because it has a lower MSE value of 9.77"
   ]
  },
  {
   "cell_type": "markdown",
   "metadata": {
    "colab_type": "text",
    "id": "s-tuvzzXPtef"
   },
   "source": [
    "## Caculating the error for different age groups"
   ]
  },
  {
   "cell_type": "code",
   "execution_count": 42,
   "metadata": {
    "colab": {},
    "colab_type": "code",
    "id": "6XuNcv_jPv0P"
   },
   "outputs": [],
   "source": [
    "error_by_age  = pd.DataFrame()"
   ]
  },
  {
   "cell_type": "code",
   "execution_count": 46,
   "metadata": {
    "colab": {},
    "colab_type": "code",
    "id": "rWnWgjKEPwLU"
   },
   "outputs": [],
   "source": [
    "kernel_error = (valid.groupby(['AGE'])['Kernel Error'].sum()/valid.groupby(['AGE'])['Kernel Error'].count()).reset_index()"
   ]
  },
  {
   "cell_type": "code",
   "execution_count": 47,
   "metadata": {
    "colab": {},
    "colab_type": "code",
    "id": "IQ6jKeInPj7n"
   },
   "outputs": [],
   "source": [
    "poly_error = (valid.groupby(['AGE'])['Polynomial Error'].sum()/valid.groupby(['AGE'])['Polynomial Error'].count()).reset_index()"
   ]
  },
  {
   "cell_type": "code",
   "execution_count": 48,
   "metadata": {
    "colab": {},
    "colab_type": "code",
    "id": "9YNurPl47xEs"
   },
   "outputs": [],
   "source": [
    "errors_by_age = pd.merge(kernel_error, poly_error, how = 'inner', on = 'AGE')"
   ]
  },
  {
   "cell_type": "code",
   "execution_count": null,
   "metadata": {
    "colab": {},
    "colab_type": "code",
    "id": "97JA-GAl7w7l"
   },
   "outputs": [],
   "source": [
    "errors_by_age.to_csv(dir +'/errors_by_age_validation.csv',index=False)"
   ]
  },
  {
   "cell_type": "code",
   "execution_count": 53,
   "metadata": {
    "colab": {
     "base_uri": "https://localhost:8080/",
     "height": 1000
    },
    "colab_type": "code",
    "id": "Yi94zn4Z7wzz",
    "outputId": "6b29c8d6-bb67-467d-ab6c-62cff2aa313e"
   },
   "outputs": [
    {
     "name": "stderr",
     "output_type": "stream",
     "text": [
      "E:\\anaconda\\envs\\tf\\lib\\site-packages\\seaborn\\_decorators.py:43: FutureWarning: Pass the following variables as keyword args: x, y. From version 0.12, the only valid positional argument will be `data`, and passing other arguments without an explicit keyword will result in an error or misinterpretation.\n",
      "  FutureWarning\n"
     ]
    },
    {
     "data": {
      "image/png": "[encoded data removed]",
      "text/plain": [
       "<Figure size 1440x1440 with 1 Axes>"
      ]
     },
     "metadata": {
      "needs_background": "light"
     },
     "output_type": "display_data"
    }
   ],
   "source": [
    "plt.figure(figsize=(20,20))\n",
    "plt.title(\"Average error by age for Polynomial Regression\", fontsize = 35)\n",
    "sns.barplot(errors_by_age.AGE, errors_by_age['Polynomial Error'])\n",
    "plt.xticks(fontsize=25, rotation='vertical')\n",
    "plt.yticks(fontsize=25)\n",
    "plt.xlabel('Age bands/groups ',fontsize=20)\n",
    "plt.ylabel('Average Error in months', fontsize=30)\n",
    "plt.show()"
   ]
  },
  {
   "cell_type": "code",
   "execution_count": 54,
   "metadata": {
    "colab": {
     "base_uri": "https://localhost:8080/",
     "height": 994
    },
    "colab_type": "code",
    "id": "ahjPNCjM7wp3",
    "outputId": "b88656c0-d526-415e-e17b-8a593280527d"
   },
   "outputs": [
    {
     "name": "stderr",
     "output_type": "stream",
     "text": [
      "E:\\anaconda\\envs\\tf\\lib\\site-packages\\seaborn\\_decorators.py:43: FutureWarning: Pass the following variables as keyword args: x, y. From version 0.12, the only valid positional argument will be `data`, and passing other arguments without an explicit keyword will result in an error or misinterpretation.\n",
      "  FutureWarning\n"
     ]
    },
    {
     "data": {
      "image/png": "[encoded data removed]",
      "text/plain": [
       "<Figure size 1440x1440 with 1 Axes>"
      ]
     },
     "metadata": {
      "needs_background": "light"
     },
     "output_type": "display_data"
    }
   ],
   "source": [
    "plt.figure(figsize=(20,20))\n",
    "plt.title(\"Average error by age for Kernel Regression\", fontsize = 35)\n",
    "sns.barplot(errors_by_age['AGE'], errors_by_age['Kernel Error'])\n",
    "plt.xticks(fontsize=25, rotation='vertical')\n",
    "plt.yticks(fontsize=25)\n",
    "plt.xlabel('Age bands/groups ',fontsize=20)\n",
    "plt.ylabel('Average Error in months', fontsize=30)\n",
    "plt.show()"
   ]
  },
  {
   "cell_type": "markdown",
   "metadata": {
    "colab_type": "text",
    "id": "BUCKqhvVRWUD"
   },
   "source": [
    "# Why error is higher for  age group above 45"
   ]
  },
  {
   "cell_type": "code",
   "execution_count": 55,
   "metadata": {
    "colab": {
     "base_uri": "https://localhost:8080/",
     "height": 295
    },
    "colab_type": "code",
    "id": "XbEtl3CsRh9E",
    "outputId": "479eba1d-1622-44ac-e6c3-0403cb62dd08"
   },
   "outputs": [
    {
     "data": {
      "image/png": "[encoded data removed]",
      "text/plain": [
       "<Figure size 432x288 with 1 Axes>"
      ]
     },
     "metadata": {
      "needs_background": "light"
     },
     "output_type": "display_data"
    }
   ],
   "source": [
    "classes=final_df[['AGE']].values\n",
    "unique, counts = np.unique(classes, return_counts=True)\n",
    "plt.bar(unique,counts)\n",
    "plt.title('Class Frequency')\n",
    "plt.xlabel('Class')\n",
    "plt.ylabel('Frequency')\n",
    "plt.show()"
   ]
  },
  {
   "cell_type": "code",
   "execution_count": null,
   "metadata": {
    "colab": {},
    "colab_type": "code",
    "id": "cmb5vpryQMQn"
   },
   "outputs": [],
   "source": []
  }
 ],
 "metadata": {
  "accelerator": "GPU",
  "colab": {
   "name": "Objective-1 for Time Invariant Aging Model and Face Recognition",
   "provenance": []
  },
  "kernelspec": {
   "display_name": "Python 3",
   "language": "python",
   "name": "python3"
  },
  "language_info": {
   "codemirror_mode": {
    "name": "ipython",
    "version": 3
   },
   "file_extension": ".py",
   "mimetype": "text/x-python",
   "name": "python",
   "nbconvert_exporter": "python",
   "pygments_lexer": "ipython3",
   "version": "3.6.10"
  }
 },
 "nbformat": 4,
 "nbformat_minor": 1
}
